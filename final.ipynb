{
 "cells": [
  {
   "cell_type": "markdown",
   "metadata": {},
   "source": [
    "# Classifying AI-Generated vs. Human Text Using LSTMs\n",
    "---\n",
    "Itzhak Estrella , Monique Tran mkt973"
   ]
  },
  {
   "cell_type": "markdown",
   "metadata": {},
   "source": [
    "## Library Imports"
   ]
  },
  {
   "cell_type": "code",
   "execution_count": 2,
   "metadata": {},
   "outputs": [],
   "source": [
    "from IPython.display import display\n",
    "from scipy.stats import norm\n",
    "import pandas as pd\n",
    "import numpy as np\n",
    "import random\n",
    "import matplotlib.pyplot as plt\n",
    "import seaborn as sns\n",
    "import langdetect\n",
    "from langdetect import detect\n",
    "import matplotlib.pyplot as plt\n",
    "from sklearn.metrics import accuracy_score\n",
    "from sklearn.metrics import classification_report,confusion_matrix\n",
    "from sklearn.model_selection import train_test_split\n",
    "import tensorflow as tf\n",
    "from tensorflow.keras.preprocessing.text import Tokenizer\n",
    "from tensorflow.keras.preprocessing.sequence import pad_sequences\n",
    "from nltk.tokenize import WhitespaceTokenizer\n",
    "from nltk.stem import WordNetLemmatizer\n",
    "from keras.models import Sequential\n",
    "from keras.layers import Dense, Embedding, LSTM, LeakyReLU\n",
    "from keras.layers import Bidirectional\n",
    "from keras.layers import Bidirectional, LSTM, GRU, Dense, Embedding, LayerNormalization\n",
    "\n",
    "SEED = 5\n",
    "random.seed(SEED)"
   ]
  },
  {
   "cell_type": "markdown",
   "metadata": {},
   "source": [
    "## 1. Data Preprocessing"
   ]
  },
  {
   "cell_type": "markdown",
   "metadata": {},
   "source": [
    "Let's read in the data. First, let's print a little more information about the data. We can see that we have five different features, where `text` is the text that is either written or generated, `source` is who/what created the text, `prompt_id` corresponds to another csv file that contains what prompt was used for the text (which we will ignore), `text_length` is the number of characters in the text, and `word_count` is the number of words in the text."
   ]
  },
  {
   "cell_type": "code",
   "execution_count": 3,
   "metadata": {},
   "outputs": [
    {
     "name": "stdout",
     "output_type": "stream",
     "text": [
      "<class 'pandas.core.frame.DataFrame'>\n",
      "RangeIndex: 788922 entries, 0 to 788921\n",
      "Data columns (total 5 columns):\n",
      " #   Column       Non-Null Count   Dtype \n",
      "---  ------       --------------   ----- \n",
      " 0   text         788922 non-null  object\n",
      " 1   source       788922 non-null  object\n",
      " 2   prompt_id    788922 non-null  int64 \n",
      " 3   text_length  788922 non-null  int64 \n",
      " 4   word_count   788922 non-null  int64 \n",
      "dtypes: int64(3), object(2)\n",
      "memory usage: 30.1+ MB\n"
     ]
    }
   ],
   "source": [
    "file_path = 'data.csv'\n",
    "text_df = pd.read_csv(file_path)\n",
    "text_df.info()"
   ]
  },
  {
   "cell_type": "markdown",
   "metadata": {},
   "source": [
    "Let's take a look at what the entries in this dataset look like."
   ]
  },
  {
   "cell_type": "code",
   "execution_count": 4,
   "metadata": {},
   "outputs": [
    {
     "data": {
      "text/html": [
       "<div>\n",
       "<style scoped>\n",
       "    .dataframe tbody tr th:only-of-type {\n",
       "        vertical-align: middle;\n",
       "    }\n",
       "\n",
       "    .dataframe tbody tr th {\n",
       "        vertical-align: top;\n",
       "    }\n",
       "\n",
       "    .dataframe thead th {\n",
       "        text-align: right;\n",
       "    }\n",
       "</style>\n",
       "<table border=\"1\" class=\"dataframe\">\n",
       "  <thead>\n",
       "    <tr style=\"text-align: right;\">\n",
       "      <th></th>\n",
       "      <th>text</th>\n",
       "      <th>source</th>\n",
       "      <th>prompt_id</th>\n",
       "      <th>text_length</th>\n",
       "      <th>word_count</th>\n",
       "    </tr>\n",
       "  </thead>\n",
       "  <tbody>\n",
       "    <tr>\n",
       "      <th>0</th>\n",
       "      <td>Federal law supersedes state law, and cannabis...</td>\n",
       "      <td>Bloom-7B</td>\n",
       "      <td>0</td>\n",
       "      <td>967</td>\n",
       "      <td>157</td>\n",
       "    </tr>\n",
       "    <tr>\n",
       "      <th>1</th>\n",
       "      <td>Miles feels restless after working all day. He...</td>\n",
       "      <td>Bloom-7B</td>\n",
       "      <td>0</td>\n",
       "      <td>5068</td>\n",
       "      <td>778</td>\n",
       "    </tr>\n",
       "    <tr>\n",
       "      <th>2</th>\n",
       "      <td>So first of I am danish. That means that I fol...</td>\n",
       "      <td>Bloom-7B</td>\n",
       "      <td>0</td>\n",
       "      <td>1602</td>\n",
       "      <td>267</td>\n",
       "    </tr>\n",
       "    <tr>\n",
       "      <th>3</th>\n",
       "      <td>In this paper we present a novel rule-based ap...</td>\n",
       "      <td>Bloom-7B</td>\n",
       "      <td>0</td>\n",
       "      <td>5469</td>\n",
       "      <td>848</td>\n",
       "    </tr>\n",
       "    <tr>\n",
       "      <th>4</th>\n",
       "      <td>Most social progressives, love democracy, and ...</td>\n",
       "      <td>Bloom-7B</td>\n",
       "      <td>0</td>\n",
       "      <td>2379</td>\n",
       "      <td>380</td>\n",
       "    </tr>\n",
       "  </tbody>\n",
       "</table>\n",
       "</div>"
      ],
      "text/plain": [
       "                                                text    source  prompt_id  \\\n",
       "0  Federal law supersedes state law, and cannabis...  Bloom-7B          0   \n",
       "1  Miles feels restless after working all day. He...  Bloom-7B          0   \n",
       "2  So first of I am danish. That means that I fol...  Bloom-7B          0   \n",
       "3  In this paper we present a novel rule-based ap...  Bloom-7B          0   \n",
       "4  Most social progressives, love democracy, and ...  Bloom-7B          0   \n",
       "\n",
       "   text_length  word_count  \n",
       "0          967         157  \n",
       "1         5068         778  \n",
       "2         1602         267  \n",
       "3         5469         848  \n",
       "4         2379         380  "
      ]
     },
     "metadata": {},
     "output_type": "display_data"
    }
   ],
   "source": [
    "display(text_df.head())"
   ]
  },
  {
   "cell_type": "markdown",
   "metadata": {},
   "source": [
    "Let's see if there are any null values in the dataset."
   ]
  },
  {
   "cell_type": "code",
   "execution_count": 5,
   "metadata": {},
   "outputs": [
    {
     "name": "stdout",
     "output_type": "stream",
     "text": [
      "Null count: 0\n"
     ]
    }
   ],
   "source": [
    "print(f'Null count: {text_df.isnull().sum().sum()}')"
   ]
  },
  {
   "cell_type": "markdown",
   "metadata": {},
   "source": [
    "As we can see, our dataset contains 0 null values, therefore we don't need to worry about missing data. However, we aren't sure if all the provided text that will be used to train the LTSM model is in English. We will use the `langdetect` library (provided by Google) to detect the language of the text and remove any non-English text. First, let us limit our data to the essay lengths we want to consider: essays between 250-5000 words. We can see that with this modification, we ended up removing 340,503 entries and now have a final dataset size with 448,419 entries. We will do this first to reduce computational cost in time."
   ]
  },
  {
   "cell_type": "code",
   "execution_count": 6,
   "metadata": {},
   "outputs": [
    {
     "name": "stdout",
     "output_type": "stream",
     "text": [
      "Shape of text_df: (788922, 5)\n",
      "Shape of text_no_outliers: (449236, 5)\n",
      "Entry Difference: 0\n"
     ]
    }
   ],
   "source": [
    "print('Shape of text_df:', text_df.shape)\n",
    "text_df = text_df[(text_df['word_count'] >= 250) & (text_df['word_count'] <= 5_000)]\n",
    "# reset indexing to avoid confusion\n",
    "text_df.reset_index(drop=True, inplace=True)\n",
    "\n",
    "print('Shape of text_no_outliers:', text_df.shape)\n",
    "print('Entry Difference:', text_df.shape[0] - text_df.shape[0])"
   ]
  },
  {
   "cell_type": "markdown",
   "metadata": {},
   "source": [
    "Now, let us gather into lists all the non-English and other oddity entries so that we can remove them later and print each of these entries."
   ]
  },
  {
   "cell_type": "code",
   "execution_count": 7,
   "metadata": {},
   "outputs": [],
   "source": [
    "# gather all non english and any other odd entries\n",
    "non_english = 0\n",
    "non_english_entries = list()\n",
    "exception_entries = list()\n",
    "for i, row in text_df.iterrows():\n",
    "    try:\n",
    "        if detect(row['text']) != 'en':\n",
    "            non_english += 1\n",
    "            non_english_entries.append(i)\n",
    "    except:\n",
    "        exception_entries.append(i)\n",
    "print(f'Non-English text entries: {non_english}')\n",
    "print(f'Non-English entries: {non_english_entries}')\n",
    "print(f'Exception entries: {exception_entries}')"
   ]
  },
  {
   "cell_type": "markdown",
   "metadata": {},
   "source": [
    "If we print one of the non-English entries, we can see that it's in French, so we successfully located the non-English entries."
   ]
  },
  {
   "cell_type": "code",
   "execution_count": 9,
   "metadata": {},
   "outputs": [
    {
     "name": "stdout",
     "output_type": "stream",
     "text": [
      "Une personne qui travaille a proximite d'Akemi m'avait recommande l'endroit. Je n'y suis allee qu'a une seule reprise pour acheter des sushis pour emporter et je ne crois pas que j'y retournerai. Je connais cet endroit depuis quelques annees, mais jamais encore j'y ai mange. La nourriture est excellente, le service tres accueillant (sans compter la gentillesse de l'entree!), les prix sont abordables et l'ambiance agreable! N'ayant eu l'occasion d'y aller qu'une fois, il m'est difficile d'en parler plus en detail. Toutefois j'ai vraiment ete satisfaite: produit frais au menu, personnel sympathique et chaleureux C'est un restaurant japonnais plutot bien situe dans l'arrondissement Plateau Mont-Royal. (Aveugle du Mail). On peut y trouver tout ce qu'on veut: sushi, ramenudon, sashimi, galette de poissons...etc. Personnellement, j'aime beaucoup leur soupe miso avec girolles fraiches ou leurs fajitas au poulet mariner d'herbes. J'ai connu par hasard cette adresse via internet; apres avoir commande sur place j'avais ete tres agreablement surpris a plusieurs points: accueil souriant et rapide (possible d'avoir ses commandes meme tard le soir) prix convenable et qualite des plats cuisines sans chichis ni frime (selon moi). Le seul bemol concerne l'adresse plutot eloignee, surtout dans l'heure actuelle ou on manque souvent cruellement d'autonomie... Situee rue Rivard Est dans l'arrondissement Villeray-Saint-Michel-Parc-Extension, c'est l'une des rares adresses japonaises relativement accessibles geographiquement parlant. D'une part car elle se trouve pres d'une station de metro (Riviere-des Prairies - Parc Extension) et d'autre part parce qu'elle possede egalement l'acces aux transports en commun (devant l'entree). Son autre avantage majeur reside peut-etre dans son decor interieur contemporain, sobre et epure.\n"
     ]
    }
   ],
   "source": [
    "print(text_df.iloc[410]['text'])"
   ]
  },
  {
   "cell_type": "markdown",
   "metadata": {},
   "source": [
    "We will now remove the non-English entries. There was also one entry that contained a lot of white space, so we will also remove this entry."
   ]
  },
  {
   "cell_type": "code",
   "execution_count": 10,
   "metadata": {},
   "outputs": [],
   "source": [
    "# remove non-English entries and exceptions\n",
    "indices_to_remove = non_english_entries + exception_entries\n",
    "text_df.drop(indices_to_remove, inplace=True)"
   ]
  },
  {
   "cell_type": "markdown",
   "metadata": {},
   "source": [
    "Now, let's take a look at the `source` field. We can see that there are multiple different LLMs that were used to generate these texts."
   ]
  },
  {
   "cell_type": "code",
   "execution_count": 11,
   "metadata": {},
   "outputs": [
    {
     "name": "stdout",
     "output_type": "stream",
     "text": [
      "Number of unique sources: 63\n"
     ]
    },
    {
     "data": {
      "text/plain": [
       "source\n",
       "Human                      216293\n",
       "GPT-3.5                     35950\n",
       "Nous-Hermes-LLaMA-2-13B     12598\n",
       "Mistral-7B                   9900\n",
       "OpenChat-3.5                 9399\n",
       "PaLM-2                       9374\n",
       "GPT-4                        8463\n",
       "Claude-Instant-v1            7009\n",
       "LLaMA-7B                     6746\n",
       "GLM-130B                     6497\n",
       "Name: count, dtype: int64"
      ]
     },
     "metadata": {},
     "output_type": "display_data"
    }
   ],
   "source": [
    "# source and the number of entries corresponding to each source\n",
    "print('Number of unique sources:', text_df['source'].nunique())\n",
    "display(text_df['source'].value_counts().head(10))"
   ]
  },
  {
   "cell_type": "markdown",
   "metadata": {},
   "source": [
    "We want to consolidate these LLMs down to just a single category, \"AI.\" If we look at the `source` feature now, we can see that we have successfully done this."
   ]
  },
  {
   "cell_type": "code",
   "execution_count": 12,
   "metadata": {},
   "outputs": [
    {
     "name": "stdout",
     "output_type": "stream",
     "text": [
      "Number of unique sources after change: 2\n"
     ]
    },
    {
     "data": {
      "text/plain": [
       "source\n",
       "AI       232818\n",
       "Human    216293\n",
       "Name: count, dtype: int64"
      ]
     },
     "metadata": {},
     "output_type": "display_data"
    }
   ],
   "source": [
    "# lets convert the sources that are not \"Human\" to be \"AI\"\n",
    "text_df['source'] = text_df['source'].apply(lambda x: 'AI' if x != 'Human' else x)\n",
    "print('Number of unique sources after change:', text_df['source'].nunique())\n",
    "display(text_df['source'].value_counts().head())"
   ]
  },
  {
   "cell_type": "markdown",
   "metadata": {},
   "source": [
    "Let's now add a new feature called `label` that will be a binary classification of the data, using \"1\" for AI and \"0\" for human."
   ]
  },
  {
   "cell_type": "code",
   "execution_count": 13,
   "metadata": {},
   "outputs": [
    {
     "data": {
      "text/plain": [
       "label\n",
       "0    232818\n",
       "1    216293\n",
       "Name: count, dtype: int64"
      ]
     },
     "metadata": {},
     "output_type": "display_data"
    }
   ],
   "source": [
    "text_df['label'] = text_df['source'].apply(lambda x: 0 if x == 'AI' else 1)\n",
    "display(text_df['label'].value_counts().head())"
   ]
  },
  {
   "cell_type": "markdown",
   "metadata": {},
   "source": [
    "Let's now parse the stop words and lemmatize the text.\n",
    "\n",
    "Stop words are common words (like \"the\", \"is\", \"and\") that often do not carry significant meaning. An example is:<br>\n",
    "The quick brown foxes are running through the forests. -> Quick brown foxes running forests.<br>\n",
    "We wanted to remove stop words from our data because they do not contribute to the meaning of the text and are essentially noise. This will allow our model to focus more on the semantics of the text and improve performance. It also reduces the dimensionality of our data. The stopwords we used come from [this dataset](https://www.kaggle.com/datasets/rowhitswami/stopwords).\n",
    "<br><br>\n",
    "Lemmatization reduces words to their base form, or the lemma. An example is: <br>\n",
    "The quick brown foxes are running through the forests. -> The quick brown fox be run through the forest.<br>\n",
    "This helps to standardize words so that different inflected forms of the same word are treated as the same word. This reduces the complexity of the vocabulary and will improve the performance of our model."
   ]
  },
  {
   "cell_type": "code",
   "execution_count": 14,
   "metadata": {},
   "outputs": [],
   "source": [
    "with open('stopwords.txt', 'r') as txtfile:\n",
    "    # read lines from the .txt file\n",
    "    lines = txtfile.readlines()\n",
    "\n",
    "# create a set of stopwords\n",
    "stop_words_list = set()\n",
    "\n",
    "# add each word from the .txt file to the set of stopwords\n",
    "for line in lines:\n",
    "    stop_words_list.add(line.strip())\n",
    "\n",
    "def parse_stop_words(sentence): \n",
    "  if isinstance(sentence, str):\n",
    "    words = sentence.split() \n",
    "    filtered_list = [word for word in words if word not in stop_words_list] \n",
    "    return ' '.join(filtered_list)\n",
    "  else:\n",
    "    return \"\"\n",
    "  \n",
    "w_tokenizer = WhitespaceTokenizer()\n",
    "lemmatizer = WordNetLemmatizer()\n",
    "\n",
    "def lemmatize(text):\n",
    "    if isinstance(text, str):\n",
    "        string = \"\"\n",
    "        for word in w_tokenizer.tokenize(text):\n",
    "            string = string + lemmatizer.lemmatize(word) + \" \"\n",
    "        return string.strip()\n",
    "    else:\n",
    "        return \"\"\n",
    "    \n",
    "text_df['text']=text_df['text'].apply(parse_stop_words)\n",
    "text_df['text']=text_df['text'].apply(lemmatize)"
   ]
  },
  {
   "cell_type": "markdown",
   "metadata": {},
   "source": [
    "Let's break our dataset into 4 different categories:\n",
    "\n",
    "| Essay Type       | Word Count Range |\n",
    "|------------------|------------------|\n",
    "| One-Page Essay   | 250-500 words    |\n",
    "| Two-Page Essay   | 500-1000 words   |\n",
    "| Four-Page Essay  | 1000-2500 words  |\n",
    "| Long Essay       | 2500-5000 words  |"
   ]
  },
  {
   "cell_type": "code",
   "execution_count": 15,
   "metadata": {},
   "outputs": [],
   "source": [
    "one_essay_df = text_df[(text_df['word_count'] > 250) & (text_df['word_count'] <= 500)]\n",
    "two_essay_df = text_df[(text_df['word_count'] > 500) & (text_df['word_count'] <= 1000)]\n",
    "four_essay_df = text_df[(text_df['word_count'] > 1000) & (text_df['word_count'] <= 2500)]\n",
    "long_essay_df = text_df[(text_df['word_count'] > 2500) & (text_df['word_count'] <= 5000)]\n",
    "complete_df = text_df[(text_df['word_count'] > 250) & (text_df['word_count'] <= 5000)]"
   ]
  },
  {
   "cell_type": "markdown",
   "metadata": {},
   "source": [
    "Lastly, let us downsample the datasets broken down by word length to have 35,000 entries per dataset to reduce the computational cost later in training."
   ]
  },
  {
   "cell_type": "code",
   "execution_count": 16,
   "metadata": {},
   "outputs": [],
   "source": [
    "# we will randomly sample from each entry when reducing the datasets\n",
    "N_TOTAL = 30000\n",
    "def random_sample_reduction(df, n_split=int(N_TOTAL/2), min_below_n_split=False):\n",
    "    PERCENT = .225\n",
    "    # split the datasets\n",
    "    human_df = df[df['source'] == 'Human']\n",
    "    ai_df = df[df['source'] == 'AI']\n",
    "\n",
    "    if min_below_n_split:\n",
    "        # ensure n_split does't exceed the number of available entries\n",
    "        human_split = int(human_df.shape[0])\n",
    "        ai_split =  int(ai_df.shape[0])\n",
    "\n",
    "        min_split = min(human_split, ai_split)\n",
    "        human_split = min_split\n",
    "        ai_split = min_split\n",
    "\n",
    "        # draw samples\n",
    "        sampled_humans = human_df.sample(human_split, replace=False)\n",
    "        sampled_ai = ai_df.sample(ai_split, replace=False)\n",
    "\n",
    "        # combine the sampled datasets\n",
    "        reduced_df = pd.concat([sampled_humans, sampled_ai])\n",
    "    \n",
    "        # shuffle the dataset\n",
    "        reduced_df = reduced_df.sample(frac=1).reset_index(drop=True) \n",
    "\n",
    "        return reduced_df\n",
    "\n",
    "    # REMOVE INT\n",
    "    human_split =  random.randint(n_split - int((n_split * PERCENT)), n_split + int((n_split * PERCENT)))\n",
    "    ai_split = int((n_split * 2) - human_split)\n",
    "\n",
    "    # draw samples\n",
    "    sampled_humans = human_df.sample(human_split, replace=False)\n",
    "    sampled_ai = ai_df.sample(ai_split, replace=False)\n",
    "\n",
    "    # combine the sampled datasets\n",
    "    reduced_df = pd.concat([sampled_humans, sampled_ai])\n",
    "    \n",
    "    # shuffle the dataset\n",
    "    reduced_df = reduced_df.sample(frac=1).reset_index(drop=True) \n",
    "\n",
    "    return reduced_df\n",
    "\n",
    "datasets = [one_essay_df, two_essay_df, four_essay_df, long_essay_df, complete_df]\n",
    "human_entries_per_dataset = [one_essay_df[one_essay_df['source'] == 'Human'].shape[0], two_essay_df[two_essay_df['source'] == 'Human'].shape[0], four_essay_df[four_essay_df['source'] == 'Human'].shape[0], long_essay_df[long_essay_df['source'] == 'Human'].shape[0], complete_df[complete_df['source'] == 'Human'].shape[0]]\n",
    "ai_entries_per_dataset = [one_essay_df[one_essay_df['source'] == 'AI'].shape[0], two_essay_df[two_essay_df['source'] == 'AI'].shape[0], four_essay_df[four_essay_df['source'] == 'AI'].shape[0], long_essay_df[long_essay_df['source'] == 'AI'].shape[0], complete_df[complete_df['source'] == 'AI'].shape[0]]\n",
    "\n",
    "reduced_datasets = list()\n",
    "for i, dataset in enumerate(datasets):\n",
    "    if ai_entries_per_dataset[i] < (N_TOTAL/2) or human_entries_per_dataset[i] < (N_TOTAL/2):\n",
    "        dataset = random_sample_reduction(dataset, min_below_n_split=True)\n",
    "        reduced_datasets.append(dataset)\n",
    "    else:\n",
    "        dataset = random_sample_reduction(dataset)\n",
    "        reduced_datasets.append(dataset)\n",
    "        \n",
    "one_essay_df, two_essay_df, four_essay_df, long_essay_df, complete_df = reduced_datasets"
   ]
  },
  {
   "cell_type": "markdown",
   "metadata": {},
   "source": [
    "## 2. Data Visualization"
   ]
  },
  {
   "cell_type": "markdown",
   "metadata": {},
   "source": [
    "Lets take a look at the frequency of word counts in our dataset."
   ]
  },
  {
   "cell_type": "code",
   "execution_count": 16,
   "metadata": {},
   "outputs": [
    {
     "data": {
      "image/png": "[encoded data removed]",
      "text/plain": [
       "<Figure size 800x600 with 1 Axes>"
      ]
     },
     "metadata": {},
     "output_type": "display_data"
    }
   ],
   "source": [
    "word_count_data = text_df['word_count']\n",
    "\n",
    "# custom made bins\n",
    "bins = [250, 500, 1000, 2500, 5000]\n",
    "bin_labels = ['250-500', '501-1,000', '1,001-2,500', '2,501-5,000']\n",
    "\n",
    "# create histogram\n",
    "hist, _ = np.histogram(word_count_data, bins=bins)\n",
    "\n",
    "# Use a bar chart to plot\n",
    "plt.figure(figsize=(8, 6))\n",
    "bars = plt.bar(bin_labels, hist, width=0.6, edgecolor='black')\n",
    "\n",
    "# Add frequency value on top of each bar\n",
    "for bar in bars:\n",
    "    yval = bar.get_height()\n",
    "    plt.text(bar.get_x() + bar.get_width()/2.0, yval, int(yval), va='bottom', ha='center')\n",
    "\n",
    "plt.title('Distribution of Word Count (Binning with Ranges)')\n",
    "plt.xlabel('Word Count Range')\n",
    "plt.xticks(rotation=45)\n",
    "plt.ylabel('Frequency')\n",
    "plt.show()"
   ]
  },
  {
   "cell_type": "markdown",
   "metadata": {},
   "source": [
    "We can see that there are a lot more essays in the 250-500 word range than any other range within our dataset. Now lets take a look at the distribution and source percentage in respect to the different essay types."
   ]
  },
  {
   "cell_type": "code",
   "execution_count": 17,
   "metadata": {},
   "outputs": [],
   "source": [
    "def plot_violin_plus_pie(essay_df, type='ENTER PREDEFINED TYPE'):\n",
    "    fig, ax = plt.subplots(1, 2, figsize=(9, 5))\n",
    "\n",
    "    sns.violinplot(data=essay_df, x=\"word_count\", linewidth=.8, linecolor=\"black\", ax=ax[0])\n",
    "    sns.despine()\n",
    "    ax[0].set_title('Distribution of Word Count - ' + type)\n",
    "\n",
    "    source_counts = essay_df['source'].value_counts()\n",
    "    ax[1].pie(\n",
    "        source_counts,\n",
    "        labels = source_counts.index,\n",
    "        autopct = '%1.1f%%',\n",
    "        wedgeprops = {'edgecolor': 'black'}\n",
    "    )\n",
    "    ax[1].set_title('Percentage of Human and AI Entries - ' + type)\n",
    "\n",
    "    plt.tight_layout()\n",
    "    plt.show()"
   ]
  },
  {
   "cell_type": "markdown",
   "metadata": {},
   "source": [
    "### One-Page Dataset"
   ]
  },
  {
   "cell_type": "code",
   "execution_count": 18,
   "metadata": {},
   "outputs": [
    {
     "data": {
      "image/png": "[encoded data removed]",
      "text/plain": [
       "<Figure size 900x500 with 2 Axes>"
      ]
     },
     "metadata": {},
     "output_type": "display_data"
    },
    {
     "name": "stdout",
     "output_type": "stream",
     "text": [
      "Size of this dataset: (30000, 6)\n"
     ]
    }
   ],
   "source": [
    "title = ['Test Dataset', 'One Page Dataset', 'Two Page Dataset', 'Four Page Dataset', 'Long Page Dataset', 'Complete Dataset']\n",
    "\n",
    "plot_violin_plus_pie(one_essay_df, title[1])\n",
    "print('Size of this dataset:', one_essay_df.shape)"
   ]
  },
  {
   "cell_type": "markdown",
   "metadata": {},
   "source": [
    "### Two-Page Dataset"
   ]
  },
  {
   "cell_type": "code",
   "execution_count": 19,
   "metadata": {},
   "outputs": [
    {
     "data": {
      "image/png": "[encoded data removed]",
      "text/plain": [
       "<Figure size 900x500 with 2 Axes>"
      ]
     },
     "metadata": {},
     "output_type": "display_data"
    },
    {
     "name": "stdout",
     "output_type": "stream",
     "text": [
      "Size of this dataset: (30000, 6)\n"
     ]
    }
   ],
   "source": [
    "plot_violin_plus_pie(two_essay_df, title[2])\n",
    "print('Size of this dataset:', two_essay_df.shape)"
   ]
  },
  {
   "cell_type": "markdown",
   "metadata": {},
   "source": [
    "### Four-Page Dataset"
   ]
  },
  {
   "cell_type": "code",
   "execution_count": 20,
   "metadata": {},
   "outputs": [
    {
     "data": {
      "image/png": "[encoded data removed]",
      "text/plain": [
       "<Figure size 900x500 with 2 Axes>"
      ]
     },
     "metadata": {},
     "output_type": "display_data"
    },
    {
     "name": "stdout",
     "output_type": "stream",
     "text": [
      "Size of this dataset: (3200, 6)\n"
     ]
    }
   ],
   "source": [
    "plot_violin_plus_pie(four_essay_df, title[3])\n",
    "print('Size of this dataset:', four_essay_df.shape)"
   ]
  },
  {
   "cell_type": "markdown",
   "metadata": {},
   "source": [
    "### Long Essay Dataset\n",
    "(more than four pages)"
   ]
  },
  {
   "cell_type": "code",
   "execution_count": 21,
   "metadata": {},
   "outputs": [
    {
     "data": {
      "image/png": "[encoded data removed]",
      "text/plain": [
       "<Figure size 900x500 with 2 Axes>"
      ]
     },
     "metadata": {},
     "output_type": "display_data"
    },
    {
     "name": "stdout",
     "output_type": "stream",
     "text": [
      "Size of this dataset: (222, 6)\n"
     ]
    }
   ],
   "source": [
    "plot_violin_plus_pie(long_essay_df, title[4])\n",
    "print('Size of this dataset:', long_essay_df.shape)"
   ]
  },
  {
   "cell_type": "markdown",
   "metadata": {},
   "source": [
    "### Conglomerated Dataset\n",
    "This is the whole dataset without binning (after being cleaned and preprocessed)."
   ]
  },
  {
   "cell_type": "code",
   "execution_count": 22,
   "metadata": {},
   "outputs": [
    {
     "data": {
      "image/png": "[encoded data removed]",
      "text/plain": [
       "<Figure size 900x500 with 2 Axes>"
      ]
     },
     "metadata": {},
     "output_type": "display_data"
    },
    {
     "name": "stdout",
     "output_type": "stream",
     "text": [
      "Size of this dataset: (30000, 6)\n"
     ]
    }
   ],
   "source": [
    "plot_violin_plus_pie(complete_df, title[5])\n",
    "print('Size of this dataset:', complete_df.shape)"
   ]
  },
  {
   "cell_type": "markdown",
   "metadata": {},
   "source": [
    "As we can see, the complete dataset is fairly balanced in terms of the source of the essays. However, the distribution of the word count is still left skewed. "
   ]
  },
  {
   "cell_type": "markdown",
   "metadata": {},
   "source": [
    "Lastly, we will remove all features except the ones that we're using, `text` and `label`, since we no longer need them because we are done with data visualization."
   ]
  },
  {
   "cell_type": "code",
   "execution_count": 17,
   "metadata": {},
   "outputs": [],
   "source": [
    "# remove the rest of the features we wont be using for the model training: 'text_length' and 'word_count'\n",
    "one_essay_df.drop(columns=['text_length', 'prompt_id', 'source', 'word_count'], inplace=True)\n",
    "two_essay_df.drop(columns=['text_length', 'prompt_id', 'source', 'word_count'], inplace=True)\n",
    "four_essay_df.drop(columns=['text_length', 'prompt_id', 'source', 'word_count'], inplace=True)\n",
    "long_essay_df.drop(columns=['text_length', 'prompt_id', 'source', 'word_count'], inplace=True)\n",
    "complete_df.drop(columns=['text_length', 'prompt_id', 'source', 'word_count'], inplace=True)"
   ]
  },
  {
   "cell_type": "markdown",
   "metadata": {},
   "source": [
    "## 3. Model Architecture Exploration"
   ]
  },
  {
   "cell_type": "markdown",
   "metadata": {},
   "source": [
    "Here, let's prepare our data further to be fed into the model. First, we want to keep a vocabulary size of 5,000, meaning that only the top 5,000 most frequent words will be used for tokenization. We also will only feed in a sequence that is 1,000 tokens long to our model, pad any inputs that are lower than this length and truncate any inputs longer than this length.\n",
    "\n",
    "We will then fit the tokenizer on the text data, which will update vocabulary based on the words present in text and assign a unique integer index to each word in the vocabulary."
   ]
  },
  {
   "cell_type": "code",
   "execution_count": 18,
   "metadata": {},
   "outputs": [],
   "source": [
    "# vocabulary size\n",
    "max_word = 5000\n",
    "\n",
    "# sequences shorter than this padded to reach 1000, sequences longer are truncated\n",
    "max_sequence_length = 1000\n",
    "\n",
    "def preprocess_for_models():\n",
    "    tokenizer = Tokenizer(num_words=max_word, split=' ') \n",
    "    tokenizer.fit_on_texts(complete_df['text'].values)\n",
    "    # converts the text into sequences of integers based on the tokenizer's vocabulary\n",
    "    X = tokenizer.texts_to_sequences(complete_df['text'].values)\n",
    "    # pad if needed\n",
    "    X= pad_sequences(X, maxlen=max_sequence_length)\n",
    "\n",
    "    y1 = complete_df['label']\n",
    "    X_train, X_test, y_train, y_test = train_test_split(X,y1, test_size = 0.3, random_state = 42)\n",
    "    return X_train, X_test, y_train, y_test\n",
    "X_train, X_test, y_train, y_test = preprocess_for_models()"
   ]
  },
  {
   "cell_type": "markdown",
   "metadata": {},
   "source": [
    "Let us define a function to train the model and test it, converting the output to a binary value."
   ]
  },
  {
   "cell_type": "code",
   "execution_count": 19,
   "metadata": {},
   "outputs": [],
   "source": [
    "def model_results(model, epochs=2):\n",
    "    model.fit(X_train, y_train, epochs=epochs, validation_data=(X_test, y_test))\n",
    "    y_pred = model.predict(X_test)\n",
    "    y_pred_binary = (y_pred > 0.5).astype(int)\n",
    "    print(\"Classification Report:\")\n",
    "    print(classification_report(y_test, y_pred_binary))\n",
    "\n",
    "    return accuracy_score(y_test, y_pred_binary)"
   ]
  },
  {
   "cell_type": "markdown",
   "metadata": {},
   "source": [
    "We will now begin experimenting with a variety of architectures for our model, printing their outputs, and saving them for later use if necessary. Let us consider model 1 our vanilla model. Each subsequent model will have its deviations from model 1 highlighted in blue."
   ]
  },
  {
   "cell_type": "markdown",
   "metadata": {},
   "source": [
    "### Model 1\n",
    "* Embedding layer\n",
    "* Bidirectional LSTM (128 units, dropout=0.5)\n",
    "* Bidirectional LSTM (64 units, dropout=0.5)\n",
    "* FC layer to 1 (sigmoid activation)"
   ]
  },
  {
   "cell_type": "code",
   "execution_count": 77,
   "metadata": {},
   "outputs": [
    {
     "name": "stdout",
     "output_type": "stream",
     "text": [
      "Epoch 1/2\n",
      "\u001b[1m657/657\u001b[0m \u001b[32m━━━━━━━━━━━━━━━━━━━━\u001b[0m\u001b[37m\u001b[0m \u001b[1m2513s\u001b[0m 4s/step - accuracy: 0.8335 - loss: 0.3641 - val_accuracy: 0.8958 - val_loss: 0.2455\n",
      "Epoch 2/2\n",
      "\u001b[1m657/657\u001b[0m \u001b[32m━━━━━━━━━━━━━━━━━━━━\u001b[0m\u001b[37m\u001b[0m \u001b[1m2460s\u001b[0m 4s/step - accuracy: 0.9204 - loss: 0.1985 - val_accuracy: 0.8633 - val_loss: 0.3395\n",
      "\u001b[1m282/282\u001b[0m \u001b[32m━━━━━━━━━━━━━━━━━━━━\u001b[0m\u001b[37m\u001b[0m \u001b[1m186s\u001b[0m 656ms/step\n",
      "Classification Report:\n",
      "              precision    recall  f1-score   support\n",
      "\n",
      "           0       0.97      0.68      0.80      3669\n",
      "           1       0.82      0.99      0.90      5331\n",
      "\n",
      "    accuracy                           0.86      9000\n",
      "   macro avg       0.90      0.84      0.85      9000\n",
      "weighted avg       0.88      0.86      0.86      9000\n",
      "\n"
     ]
    }
   ],
   "source": [
    "model1 = Sequential()\n",
    "model1.add(Embedding(max_word, 1000))\n",
    "model1.add(Bidirectional(LSTM(128, dropout=0.5, return_sequences=True)))\n",
    "model1.add(Bidirectional(LSTM(64, dropout=0.5)))\n",
    "model1.add(Dense(1, activation='sigmoid'))\n",
    "\n",
    "model1.compile(optimizer='adam', loss='binary_crossentropy', metrics=['accuracy'])\n",
    "model_results(model1)\n",
    "model1.save(\"model1.keras\")"
   ]
  },
  {
   "cell_type": "markdown",
   "metadata": {},
   "source": [
    "### Model 2\n",
    "* Embedding layer\n",
    "* <span style=\"color:#0e8fc7\">LSTM</span> (128 units, <span style=\"color:#0e8fc7\">dropout=0.2, recurrent dropout=0.2</span>)\n",
    "* <span style=\"color:#0e8fc7\">LSTM</span> (64 units, <span style=\"color:#0e8fc7\">dropout=0.2, recurrent dropout=0.2</span>)\n",
    "* FC layer to 1 (sigmoid activation)"
   ]
  },
  {
   "cell_type": "code",
   "execution_count": 78,
   "metadata": {},
   "outputs": [
    {
     "name": "stdout",
     "output_type": "stream",
     "text": [
      "Epoch 1/2\n",
      "\u001b[1m657/657\u001b[0m \u001b[32m━━━━━━━━━━━━━━━━━━━━\u001b[0m\u001b[37m\u001b[0m \u001b[1m1454s\u001b[0m 2s/step - accuracy: 0.8344 - loss: 0.3543 - val_accuracy: 0.8850 - val_loss: 0.2660\n",
      "Epoch 2/2\n",
      "\u001b[1m657/657\u001b[0m \u001b[32m━━━━━━━━━━━━━━━━━━━━\u001b[0m\u001b[37m\u001b[0m \u001b[1m1510s\u001b[0m 2s/step - accuracy: 0.9141 - loss: 0.2037 - val_accuracy: 0.8971 - val_loss: 0.2458\n",
      "\u001b[1m282/282\u001b[0m \u001b[32m━━━━━━━━━━━━━━━━━━━━\u001b[0m\u001b[37m\u001b[0m \u001b[1m146s\u001b[0m 517ms/step\n",
      "Classification Report:\n",
      "              precision    recall  f1-score   support\n",
      "\n",
      "           0       0.90      0.84      0.87      3669\n",
      "           1       0.89      0.94      0.92      5331\n",
      "\n",
      "    accuracy                           0.90      9000\n",
      "   macro avg       0.90      0.89      0.89      9000\n",
      "weighted avg       0.90      0.90      0.90      9000\n",
      "\n"
     ]
    }
   ],
   "source": [
    "model2 = Sequential()\n",
    "\n",
    "model2.add(Embedding(max_word, 1000))\n",
    "model2.add(LSTM(128, dropout=0.2, recurrent_dropout=0.2, return_sequences=True))\n",
    "model2.add(LSTM(64, dropout=0.2, recurrent_dropout=0.2))\n",
    "model2.add(Dense(1, activation='sigmoid'))\n",
    "\n",
    "model2.compile(optimizer='adam', loss='binary_crossentropy', metrics=['accuracy'])\n",
    "model_results(model2)\n",
    "model2.save(\"model2.keras\")"
   ]
  },
  {
   "cell_type": "markdown",
   "metadata": {},
   "source": [
    "### Model 3\n",
    "* Embedding layer\n",
    "* Bidirectional LSTM (128 units, dropout=0.5)\n",
    "* Bidirectional LSTM (64 units, dropout=0.5)\n",
    "* <span style=\"color:#0e8fc7\">FC layer to 64 (relu activation)</span>\n",
    "* FC layer to 1 (sigmoid activation)"
   ]
  },
  {
   "cell_type": "code",
   "execution_count": 79,
   "metadata": {},
   "outputs": [
    {
     "name": "stdout",
     "output_type": "stream",
     "text": [
      "Epoch 1/2\n",
      "\u001b[1m657/657\u001b[0m \u001b[32m━━━━━━━━━━━━━━━━━━━━\u001b[0m\u001b[37m\u001b[0m \u001b[1m2527s\u001b[0m 4s/step - accuracy: 0.8317 - loss: 0.3642 - val_accuracy: 0.8801 - val_loss: 0.2955\n",
      "Epoch 2/2\n",
      "\u001b[1m657/657\u001b[0m \u001b[32m━━━━━━━━━━━━━━━━━━━━\u001b[0m\u001b[37m\u001b[0m \u001b[1m2408s\u001b[0m 4s/step - accuracy: 0.8884 - loss: 0.2617 - val_accuracy: 0.9021 - val_loss: 0.2599\n",
      "\u001b[1m282/282\u001b[0m \u001b[32m━━━━━━━━━━━━━━━━━━━━\u001b[0m\u001b[37m\u001b[0m \u001b[1m164s\u001b[0m 580ms/step\n",
      "Classification Report:\n",
      "              precision    recall  f1-score   support\n",
      "\n",
      "           0       0.92      0.83      0.87      3669\n",
      "           1       0.89      0.95      0.92      5331\n",
      "\n",
      "    accuracy                           0.90      9000\n",
      "   macro avg       0.91      0.89      0.90      9000\n",
      "weighted avg       0.90      0.90      0.90      9000\n",
      "\n"
     ]
    }
   ],
   "source": [
    "model3 = Sequential()\n",
    "model3.add(Embedding(max_word, 1000))\n",
    "model3.add(Bidirectional(LSTM(128, dropout=0.5, return_sequences=True)))\n",
    "model3.add(Bidirectional(LSTM(64, dropout=0.5)))\n",
    "model3.add(Dense(64, activation='relu'))\n",
    "model3.add(Dense(1, activation='sigmoid'))\n",
    "\n",
    "model3.compile(optimizer='adam', loss='binary_crossentropy', metrics=['accuracy'])\n",
    "model_results(model3)\n",
    "model3.save(\"model3.keras\")"
   ]
  },
  {
   "cell_type": "markdown",
   "metadata": {},
   "source": [
    "### Model 4\n",
    "* Embedding layer\n",
    "* Bidirectional LSTM (<span style=\"color:#0e8fc7\">64 units, dropout=0.2, recurrent dropout=0.2</span>)\n",
    "* Bidirectional LSTM (<span style=\"color:#0e8fc7\">32 units, dropout=0.2, recurrent dropout=0.2</span>)\n",
    "* FC layer to 1 (sigmoid activation)"
   ]
  },
  {
   "cell_type": "code",
   "execution_count": 80,
   "metadata": {},
   "outputs": [
    {
     "name": "stdout",
     "output_type": "stream",
     "text": [
      "Epoch 1/2\n",
      "\u001b[1m657/657\u001b[0m \u001b[32m━━━━━━━━━━━━━━━━━━━━\u001b[0m\u001b[37m\u001b[0m \u001b[1m1212s\u001b[0m 2s/step - accuracy: 0.8270 - loss: 0.3640 - val_accuracy: 0.8926 - val_loss: 0.2410\n",
      "Epoch 2/2\n",
      "\u001b[1m657/657\u001b[0m \u001b[32m━━━━━━━━━━━━━━━━━━━━\u001b[0m\u001b[37m\u001b[0m \u001b[1m1265s\u001b[0m 2s/step - accuracy: 0.9166 - loss: 0.1964 - val_accuracy: 0.9046 - val_loss: 0.2488\n",
      "\u001b[1m282/282\u001b[0m \u001b[32m━━━━━━━━━━━━━━━━━━━━\u001b[0m\u001b[37m\u001b[0m \u001b[1m96s\u001b[0m 338ms/step\n",
      "Classification Report:\n",
      "              precision    recall  f1-score   support\n",
      "\n",
      "           0       0.92      0.84      0.88      3669\n",
      "           1       0.90      0.95      0.92      5331\n",
      "\n",
      "    accuracy                           0.90      9000\n",
      "   macro avg       0.91      0.89      0.90      9000\n",
      "weighted avg       0.91      0.90      0.90      9000\n",
      "\n"
     ]
    }
   ],
   "source": [
    "model4 = Sequential()\n",
    "model4.add(Embedding(max_word, 1000))\n",
    "model4.add(Bidirectional(LSTM(64, dropout=0.2, recurrent_dropout=0.2, return_sequences=True)))\n",
    "model4.add(Bidirectional(LSTM(32, dropout=0.2, recurrent_dropout=0.2)))\n",
    "model4.add(Dense(1, activation='sigmoid'))\n",
    "\n",
    "model4.compile(optimizer='adam', loss='binary_crossentropy', metrics=['accuracy'])\n",
    "model_results(model4)\n",
    "model4.save(\"model4.keras\")"
   ]
  },
  {
   "cell_type": "markdown",
   "metadata": {},
   "source": [
    "### Model 5\n",
    "* Embedding layer\n",
    "* Bidirectional LSTM (128 units, dropout=0.5)\n",
    "* Bidirectional LSTM (64 units, dropout=0.5)\n",
    "* <span style=\"color:#0e8fc7\">FC layer to 64 (leaky relu activation)</span>\n",
    "* FC layer to 1 (sigmoid activation)"
   ]
  },
  {
   "cell_type": "code",
   "execution_count": 83,
   "metadata": {},
   "outputs": [
    {
     "name": "stdout",
     "output_type": "stream",
     "text": [
      "Epoch 1/2\n",
      "\u001b[1m657/657\u001b[0m \u001b[32m━━━━━━━━━━━━━━━━━━━━\u001b[0m\u001b[37m\u001b[0m \u001b[1m1859s\u001b[0m 3s/step - accuracy: 0.8306 - loss: 0.3559 - val_accuracy: 0.9077 - val_loss: 0.2311\n",
      "Epoch 2/2\n",
      "\u001b[1m657/657\u001b[0m \u001b[32m━━━━━━━━━━━━━━━━━━━━\u001b[0m\u001b[37m\u001b[0m \u001b[1m1839s\u001b[0m 3s/step - accuracy: 0.9255 - loss: 0.1910 - val_accuracy: 0.9059 - val_loss: 0.2326\n",
      "\u001b[1m282/282\u001b[0m \u001b[32m━━━━━━━━━━━━━━━━━━━━\u001b[0m\u001b[37m\u001b[0m \u001b[1m160s\u001b[0m 565ms/step\n",
      "Classification Report:\n",
      "              precision    recall  f1-score   support\n",
      "\n",
      "           0       0.94      0.82      0.88      3669\n",
      "           1       0.88      0.97      0.92      5331\n",
      "\n",
      "    accuracy                           0.91      9000\n",
      "   macro avg       0.91      0.89      0.90      9000\n",
      "weighted avg       0.91      0.91      0.90      9000\n",
      "\n"
     ]
    }
   ],
   "source": [
    "model5 = Sequential()\n",
    "model5.add(Embedding(max_word, 1000))\n",
    "model5.add(Bidirectional(LSTM(128, dropout=0.5, return_sequences=True)))\n",
    "model5.add(Bidirectional(LSTM(64, dropout=0.5)))\n",
    "model5.add(Dense(64, activation=LeakyReLU()))\n",
    "model5.add(Dense(1, activation='sigmoid'))\n",
    "\n",
    "model5.compile(optimizer='adam', loss='binary_crossentropy', metrics=['accuracy'])\n",
    "model_results(model5)\n",
    "model5.save(\"model5.keras\")"
   ]
  },
  {
   "cell_type": "markdown",
   "metadata": {},
   "source": [
    "### Model 6\n",
    "* Embedding layer\n",
    "* Bidirectional LSTM (<span style=\"color:#0e8fc7\">64 units, dropout=0.2, recurrent dropout=0.2</span>)\n",
    "* Bidirectional LSTM (<span style=\"color:#0e8fc7\">32 units, dropout=0.2, recurrent dropout=0.2</span>)\n",
    "* <span style=\"color:#0e8fc7\">Bidirectional LSTM (32 units, dropout=0.2, recurrent dropout=0.2</span>)\n",
    "* <span style=\"color:#0e8fc7\">FC layer to 64 (relu activation)</span>\n",
    "* FC layer to 1 (sigmoid activation)"
   ]
  },
  {
   "cell_type": "code",
   "execution_count": 84,
   "metadata": {},
   "outputs": [
    {
     "name": "stdout",
     "output_type": "stream",
     "text": [
      "Epoch 1/2\n"
     ]
    },
    {
     "name": "stderr",
     "output_type": "stream",
     "text": [
      "/Users/moni/CS364M/venv/lib/python3.12/site-packages/keras/src/layers/core/embedding.py:86: UserWarning: Argument `input_length` is deprecated. Just remove it.\n",
      "  warnings.warn(\n"
     ]
    },
    {
     "name": "stdout",
     "output_type": "stream",
     "text": [
      "\u001b[1m657/657\u001b[0m \u001b[32m━━━━━━━━━━━━━━━━━━━━\u001b[0m\u001b[37m\u001b[0m \u001b[1m943s\u001b[0m 1s/step - accuracy: 0.8249 - loss: 0.3715 - val_accuracy: 0.9020 - val_loss: 0.2416\n",
      "Epoch 2/2\n",
      "\u001b[1m657/657\u001b[0m \u001b[32m━━━━━━━━━━━━━━━━━━━━\u001b[0m\u001b[37m\u001b[0m \u001b[1m1056s\u001b[0m 2s/step - accuracy: 0.9246 - loss: 0.1838 - val_accuracy: 0.8988 - val_loss: 0.2468\n",
      "\u001b[1m282/282\u001b[0m \u001b[32m━━━━━━━━━━━━━━━━━━━━\u001b[0m\u001b[37m\u001b[0m \u001b[1m90s\u001b[0m 317ms/step\n",
      "Classification Report:\n",
      "              precision    recall  f1-score   support\n",
      "\n",
      "           0       0.91      0.83      0.87      3669\n",
      "           1       0.89      0.95      0.92      5331\n",
      "\n",
      "    accuracy                           0.90      9000\n",
      "   macro avg       0.90      0.89      0.89      9000\n",
      "weighted avg       0.90      0.90      0.90      9000\n",
      "\n"
     ]
    }
   ],
   "source": [
    "model6 = Sequential()\n",
    "model6.add(Embedding(max_word, 500, input_length=max_sequence_length))\n",
    "model6.add(Bidirectional(LSTM(64, dropout=0.2, recurrent_dropout=0.2, return_sequences=True)))\n",
    "model6.add(Bidirectional(LSTM(32, dropout=0.2, recurrent_dropout=0.2, return_sequences=True)))\n",
    "model6.add(Bidirectional(LSTM(32, dropout=0.2, recurrent_dropout=0.2)))\n",
    "model6.add(Dense(1, activation='sigmoid'))\n",
    "\n",
    "model6.compile(optimizer='adam', loss='binary_crossentropy', metrics=['accuracy'])\n",
    "model_results(model6)\n",
    "model6.save(\"model6.keras\")"
   ]
  },
  {
   "cell_type": "markdown",
   "metadata": {},
   "source": [
    "### Model 7\n",
    "* Embedding layer\n",
    "* Bidirectional LSTM (<span style=\"color:#0e8fc7\">64 units, dropout=0.2, recurrent dropout=0.2</span>)\n",
    "* FC layer to 1 (sigmoid activation)"
   ]
  },
  {
   "cell_type": "code",
   "execution_count": 85,
   "metadata": {},
   "outputs": [
    {
     "name": "stdout",
     "output_type": "stream",
     "text": [
      "Epoch 1/2\n",
      "\u001b[1m657/657\u001b[0m \u001b[32m━━━━━━━━━━━━━━━━━━━━\u001b[0m\u001b[37m\u001b[0m \u001b[1m1164s\u001b[0m 2s/step - accuracy: 0.8109 - loss: 0.3832 - val_accuracy: 0.8890 - val_loss: 0.2586\n",
      "Epoch 2/2\n",
      "\u001b[1m657/657\u001b[0m \u001b[32m━━━━━━━━━━━━━━━━━━━━\u001b[0m\u001b[37m\u001b[0m \u001b[1m1315s\u001b[0m 2s/step - accuracy: 0.9100 - loss: 0.2127 - val_accuracy: 0.9008 - val_loss: 0.2413\n",
      "\u001b[1m282/282\u001b[0m \u001b[32m━━━━━━━━━━━━━━━━━━━━\u001b[0m\u001b[37m\u001b[0m \u001b[1m83s\u001b[0m 293ms/step\n",
      "Classification Report:\n",
      "              precision    recall  f1-score   support\n",
      "\n",
      "           0       0.89      0.87      0.88      3669\n",
      "           1       0.91      0.92      0.92      5331\n",
      "\n",
      "    accuracy                           0.90      9000\n",
      "   macro avg       0.90      0.90      0.90      9000\n",
      "weighted avg       0.90      0.90      0.90      9000\n",
      "\n"
     ]
    }
   ],
   "source": [
    "model7 = Sequential()\n",
    "model7.add(Embedding(max_word, 1000))\n",
    "model7.add(Bidirectional(LSTM(64, dropout=0.2, recurrent_dropout=0.2)))\n",
    "model7.add(Dense(1, activation='sigmoid'))\n",
    "\n",
    "model7.compile(optimizer='adam', loss='binary_crossentropy', metrics=['accuracy'])\n",
    "model_results(model7)\n",
    "model7.save(\"model7.keras\")"
   ]
  },
  {
   "cell_type": "markdown",
   "metadata": {},
   "source": [
    "### Model 8\n",
    "* Embedding layer\n",
    "* Bidirectional LSTM (128 units, dropout=0.5)\n",
    "* Bidirectional <span style=\"color:#0e8fc7\">GRU</span> (64 units, dropout=0.5)\n",
    "* FC layer to 1 (sigmoid activation)"
   ]
  },
  {
   "cell_type": "code",
   "execution_count": 88,
   "metadata": {},
   "outputs": [
    {
     "name": "stdout",
     "output_type": "stream",
     "text": [
      "Epoch 1/2\n",
      "\u001b[1m657/657\u001b[0m \u001b[32m━━━━━━━━━━━━━━━━━━━━\u001b[0m\u001b[37m\u001b[0m \u001b[1m2360s\u001b[0m 4s/step - accuracy: 0.8120 - loss: 0.3870 - val_accuracy: 0.9140 - val_loss: 0.2074\n",
      "Epoch 2/2\n",
      "\u001b[1m657/657\u001b[0m \u001b[32m━━━━━━━━━━━━━━━━━━━━\u001b[0m\u001b[37m\u001b[0m \u001b[1m2225s\u001b[0m 3s/step - accuracy: 0.9293 - loss: 0.1703 - val_accuracy: 0.9271 - val_loss: 0.1787\n",
      "\u001b[1m282/282\u001b[0m \u001b[32m━━━━━━━━━━━━━━━━━━━━\u001b[0m\u001b[37m\u001b[0m \u001b[1m225s\u001b[0m 793ms/step\n",
      "Classification Report:\n",
      "              precision    recall  f1-score   support\n",
      "\n",
      "           0       0.91      0.91      0.91      3669\n",
      "           1       0.94      0.94      0.94      5331\n",
      "\n",
      "    accuracy                           0.93      9000\n",
      "   macro avg       0.93      0.92      0.92      9000\n",
      "weighted avg       0.93      0.93      0.93      9000\n",
      "\n"
     ]
    }
   ],
   "source": [
    "model8 = Sequential()\n",
    "model8.add(Embedding(max_word, 1000))\n",
    "model8.add(Bidirectional(LSTM(128, dropout=0.5, return_sequences=True)))\n",
    "model8.add(Bidirectional(GRU(64, dropout=0.5, return_sequences=False)))\n",
    "model8.add(Dense(1, activation='sigmoid'))\n",
    "\n",
    "model8.compile(optimizer='adam', loss='binary_crossentropy', metrics=['accuracy'])\n",
    "model_results(model8)\n",
    "model8.save(\"model8.keras\")"
   ]
  },
  {
   "cell_type": "markdown",
   "metadata": {},
   "source": [
    "### Model 9\n",
    "* Embedding layer\n",
    "* Bidirectional LSTM (128 units, dropout=0.5)\n",
    "* <span style=\"color:#0e8fc7\">Layer normalization</span>\n",
    "* Bidirectional LSTM (64 units, dropout=0.5)\n",
    "* <span style=\"color:#0e8fc7\">Layer normalization</span>\n",
    "* FC layer to 1 (sigmoid activation)"
   ]
  },
  {
   "cell_type": "code",
   "execution_count": 91,
   "metadata": {},
   "outputs": [
    {
     "name": "stdout",
     "output_type": "stream",
     "text": [
      "Epoch 1/2\n",
      "\u001b[1m657/657\u001b[0m \u001b[32m━━━━━━━━━━━━━━━━━━━━\u001b[0m\u001b[37m\u001b[0m \u001b[1m2218s\u001b[0m 3s/step - accuracy: 0.8224 - loss: 0.3880 - val_accuracy: 0.8767 - val_loss: 0.2752\n",
      "Epoch 2/2\n",
      "\u001b[1m657/657\u001b[0m \u001b[32m━━━━━━━━━━━━━━━━━━━━\u001b[0m\u001b[37m\u001b[0m \u001b[1m2026s\u001b[0m 3s/step - accuracy: 0.9036 - loss: 0.2285 - val_accuracy: 0.9017 - val_loss: 0.2524\n",
      "\u001b[1m282/282\u001b[0m \u001b[32m━━━━━━━━━━━━━━━━━━━━\u001b[0m\u001b[37m\u001b[0m \u001b[1m176s\u001b[0m 621ms/step\n",
      "Classification Report:\n",
      "              precision    recall  f1-score   support\n",
      "\n",
      "           0       0.91      0.84      0.87      3669\n",
      "           1       0.90      0.94      0.92      5331\n",
      "\n",
      "    accuracy                           0.90      9000\n",
      "   macro avg       0.90      0.89      0.90      9000\n",
      "weighted avg       0.90      0.90      0.90      9000\n",
      "\n"
     ]
    }
   ],
   "source": [
    "model9 = Sequential()\n",
    "model9.add(Embedding(max_word, 1000))\n",
    "model9.add(Bidirectional(LSTM(128, dropout=0.5, return_sequences=True)))\n",
    "model9.add(LayerNormalization())\n",
    "model9.add(Bidirectional(LSTM(64, dropout=0.5)))\n",
    "model9.add(LayerNormalization())\n",
    "model9.add(Dense(1, activation='sigmoid'))\n",
    "\n",
    "model9.compile(optimizer='adam', loss='binary_crossentropy', metrics=['accuracy'])\n",
    "model_results(model9)\n",
    "model9.save(\"model9.keras\")"
   ]
  },
  {
   "cell_type": "markdown",
   "metadata": {},
   "source": [
    "### Model 10\n",
    "* Embedding layer\n",
    "* Bidirectional LSTM (<span style=\"color:#0e8fc7\">256</span> units, dropout=0.5)\n",
    "* Bidirectional LSTM (<span style=\"color:#0e8fc7\">128</span> units, dropout=0.5)\n",
    "* FC layer to 1 (sigmoid activation)"
   ]
  },
  {
   "cell_type": "code",
   "execution_count": 95,
   "metadata": {},
   "outputs": [
    {
     "name": "stdout",
     "output_type": "stream",
     "text": [
      "Epoch 1/2\n",
      "\u001b[1m657/657\u001b[0m \u001b[32m━━━━━━━━━━━━━━━━━━━━\u001b[0m\u001b[37m\u001b[0m \u001b[1m4501s\u001b[0m 7s/step - accuracy: 0.8329 - loss: 0.3605 - val_accuracy: 0.8913 - val_loss: 0.2567\n",
      "Epoch 2/2\n",
      "\u001b[1m657/657\u001b[0m \u001b[32m━━━━━━━━━━━━━━━━━━━━\u001b[0m\u001b[37m\u001b[0m \u001b[1m4945s\u001b[0m 8s/step - accuracy: 0.9213 - loss: 0.1956 - val_accuracy: 0.9009 - val_loss: 0.2571\n",
      "\u001b[1m282/282\u001b[0m \u001b[32m━━━━━━━━━━━━━━━━━━━━\u001b[0m\u001b[37m\u001b[0m \u001b[1m489s\u001b[0m 2s/step\n",
      "Classification Report:\n",
      "              precision    recall  f1-score   support\n",
      "\n",
      "           0       0.94      0.81      0.87      3669\n",
      "           1       0.88      0.97      0.92      5331\n",
      "\n",
      "    accuracy                           0.90      9000\n",
      "   macro avg       0.91      0.89      0.89      9000\n",
      "weighted avg       0.90      0.90      0.90      9000\n",
      "\n"
     ]
    }
   ],
   "source": [
    "model10 = Sequential()\n",
    "model10.add(Embedding(max_word, 1000))\n",
    "model10.add(Bidirectional(LSTM(256, dropout=0.5, return_sequences=True)))\n",
    "model10.add(Bidirectional(LSTM(128, dropout=0.5)))\n",
    "model10.add(Dense(1, activation='sigmoid'))\n",
    "\n",
    "model10.compile(optimizer='adam', loss='binary_crossentropy', metrics=['accuracy'])\n",
    "model_results(model10)\n",
    "model10.save(\"model10.keras\")"
   ]
  },
  {
   "cell_type": "markdown",
   "metadata": {},
   "source": [
    "Now, we will take the best model architecture from the 10 different variations we have explored (model 8) to use it on variations of the dataset by essay length."
   ]
  },
  {
   "cell_type": "markdown",
   "metadata": {},
   "source": [
    "### Model 11\n",
    "* Embedding layer\n",
    "* Bidirectional LSTM (<span style=\"color:#0e8fc7\">64</span> units, dropout=0.5)\n",
    "* Bidirectional LSTM (<span style=\"color:#0e8fc7\">32</span> units, dropout=0.5)\n",
    "* FC layer to 1 (sigmoid activation)"
   ]
  },
  {
   "cell_type": "code",
   "execution_count": 29,
   "metadata": {},
   "outputs": [
    {
     "name": "stdout",
     "output_type": "stream",
     "text": [
      "Epoch 1/2\n",
      "\u001b[1m657/657\u001b[0m \u001b[32m━━━━━━━━━━━━━━━━━━━━\u001b[0m\u001b[37m\u001b[0m \u001b[1m1301s\u001b[0m 2s/step - accuracy: 0.8345 - loss: 0.3587 - val_accuracy: 0.9043 - val_loss: 0.2459\n",
      "Epoch 2/2\n",
      "\u001b[1m657/657\u001b[0m \u001b[32m━━━━━━━━━━━━━━━━━━━━\u001b[0m\u001b[37m\u001b[0m \u001b[1m1406s\u001b[0m 2s/step - accuracy: 0.9262 - loss: 0.1799 - val_accuracy: 0.9023 - val_loss: 0.2414\n",
      "\u001b[1m282/282\u001b[0m \u001b[32m━━━━━━━━━━━━━━━━━━━━\u001b[0m\u001b[37m\u001b[0m \u001b[1m92s\u001b[0m 325ms/step\n",
      "Classification Report:\n",
      "              precision    recall  f1-score   support\n",
      "\n",
      "           0       0.95      0.87      0.91      4956\n",
      "           1       0.86      0.94      0.90      4044\n",
      "\n",
      "    accuracy                           0.90      9000\n",
      "   macro avg       0.90      0.91      0.90      9000\n",
      "weighted avg       0.91      0.90      0.90      9000\n",
      "\n"
     ]
    }
   ],
   "source": [
    "model11 = Sequential()\n",
    "model11.add(Embedding(max_word, 1000))\n",
    "model11.add(Bidirectional(LSTM(64, dropout=0.5, return_sequences=True)))\n",
    "model11.add(Bidirectional(LSTM(32, dropout=0.5)))\n",
    "model11.add(Dense(1, activation='sigmoid'))\n",
    "\n",
    "model11.compile(optimizer='adam', loss='binary_crossentropy', metrics=['accuracy'])\n",
    "model_results(model11)\n",
    "model11.save(\"model11.keras\")"
   ]
  },
  {
   "cell_type": "markdown",
   "metadata": {},
   "source": [
    "### Model 12\n",
    "* <span style=\"color:#0e8fc7\">one page essay dataset</span>\n",
    "* Embedding layer\n",
    "* Bidirectional LSTM (128 units, dropout=0.5)\n",
    "* Bidirectional <span style=\"color:#0e8fc7\">GRU</span> (64 units, dropout=0.5)\n",
    "* FC layer to 1 (sigmoid activation)"
   ]
  },
  {
   "cell_type": "code",
   "execution_count": 27,
   "metadata": {},
   "outputs": [
    {
     "name": "stdout",
     "output_type": "stream",
     "text": [
      "Epoch 1/2\n",
      "\u001b[1m657/657\u001b[0m \u001b[32m━━━━━━━━━━━━━━━━━━━━\u001b[0m\u001b[37m\u001b[0m \u001b[1m1734s\u001b[0m 3s/step - accuracy: 0.8014 - loss: 0.4195 - val_accuracy: 0.8838 - val_loss: 0.2816\n",
      "Epoch 2/2\n",
      "\u001b[1m657/657\u001b[0m \u001b[32m━━━━━━━━━━━━━━━━━━━━\u001b[0m\u001b[37m\u001b[0m \u001b[1m1726s\u001b[0m 3s/step - accuracy: 0.9119 - loss: 0.2313 - val_accuracy: 0.8873 - val_loss: 0.2657\n",
      "\u001b[1m282/282\u001b[0m \u001b[32m━━━━━━━━━━━━━━━━━━━━\u001b[0m\u001b[37m\u001b[0m \u001b[1m159s\u001b[0m 564ms/step\n",
      "Classification Report:\n",
      "              precision    recall  f1-score   support\n",
      "\n",
      "           0       0.90      0.83      0.87      3935\n",
      "           1       0.88      0.93      0.90      5065\n",
      "\n",
      "    accuracy                           0.89      9000\n",
      "   macro avg       0.89      0.88      0.88      9000\n",
      "weighted avg       0.89      0.89      0.89      9000\n",
      "\n"
     ]
    }
   ],
   "source": [
    "tokenizer = Tokenizer(num_words=max_word, split=' ') \n",
    "tokenizer.fit_on_texts(one_essay_df['text'].values)\n",
    "# converts the text into sequences of integers based on the tokenizer's vocabulary\n",
    "X = tokenizer.texts_to_sequences(one_essay_df['text'].values)\n",
    "# pad if needed\n",
    "X= pad_sequences(X, maxlen=max_sequence_length)\n",
    "\n",
    "y1 = one_essay_df['label']\n",
    "X_train, X_test, y_train, y_test = train_test_split(X,y1, test_size = 0.3, random_state = 42)\n",
    "\n",
    "model12 = Sequential()\n",
    "model12.add(Embedding(max_word, 1000))\n",
    "model12.add(Bidirectional(LSTM(128, dropout=0.5, return_sequences=True)))\n",
    "model12.add(Bidirectional(GRU(64, dropout=0.5, return_sequences=False)))\n",
    "model12.add(Dense(1, activation='sigmoid'))\n",
    "\n",
    "model12.compile(optimizer='adam', loss='binary_crossentropy', metrics=['accuracy'])\n",
    "model_results(model12)\n",
    "model12.save(\"model12.keras\")"
   ]
  },
  {
   "cell_type": "markdown",
   "metadata": {},
   "source": [
    "### Model 13\n",
    "* <span style=\"color:#0e8fc7\">two page essay dataset</span>\n",
    "* Embedding layer\n",
    "* Bidirectional LSTM (128 units, dropout=0.5)\n",
    "* Bidirectional <span style=\"color:#0e8fc7\">GRU</span> (64 units, dropout=0.5)\n",
    "* FC layer to 1 (sigmoid activation)"
   ]
  },
  {
   "cell_type": "code",
   "execution_count": 28,
   "metadata": {},
   "outputs": [
    {
     "name": "stdout",
     "output_type": "stream",
     "text": [
      "Epoch 1/2\n",
      "\u001b[1m657/657\u001b[0m \u001b[32m━━━━━━━━━━━━━━━━━━━━\u001b[0m\u001b[37m\u001b[0m \u001b[1m1756s\u001b[0m 3s/step - accuracy: 0.8384 - loss: 0.3353 - val_accuracy: 0.9201 - val_loss: 0.1956\n",
      "Epoch 2/2\n",
      "\u001b[1m657/657\u001b[0m \u001b[32m━━━━━━━━━━━━━━━━━━━━\u001b[0m\u001b[37m\u001b[0m \u001b[1m1759s\u001b[0m 3s/step - accuracy: 0.9422 - loss: 0.1498 - val_accuracy: 0.9421 - val_loss: 0.1552\n",
      "\u001b[1m282/282\u001b[0m \u001b[32m━━━━━━━━━━━━━━━━━━━━\u001b[0m\u001b[37m\u001b[0m \u001b[1m171s\u001b[0m 606ms/step\n",
      "Classification Report:\n",
      "              precision    recall  f1-score   support\n",
      "\n",
      "           0       0.94      0.95      0.95      4870\n",
      "           1       0.95      0.93      0.94      4130\n",
      "\n",
      "    accuracy                           0.94      9000\n",
      "   macro avg       0.94      0.94      0.94      9000\n",
      "weighted avg       0.94      0.94      0.94      9000\n",
      "\n"
     ]
    }
   ],
   "source": [
    "tokenizer = Tokenizer(num_words=max_word, split=' ') \n",
    "tokenizer.fit_on_texts(two_essay_df['text'].values)\n",
    "# converts the text into sequences of integers based on the tokenizer's vocabulary\n",
    "X = tokenizer.texts_to_sequences(two_essay_df['text'].values)\n",
    "# pad if needed\n",
    "X= pad_sequences(X, maxlen=max_sequence_length)\n",
    "\n",
    "y1 = two_essay_df['label']\n",
    "X_train, X_test, y_train, y_test = train_test_split(X,y1, test_size = 0.3, random_state = 42)\n",
    "\n",
    "model13 = Sequential()\n",
    "model13.add(Embedding(max_word, 1000))\n",
    "model13.add(Bidirectional(LSTM(128, dropout=0.5, return_sequences=True)))\n",
    "model13.add(Bidirectional(GRU(64, dropout=0.5, return_sequences=False)))\n",
    "model13.add(Dense(1, activation='sigmoid'))\n",
    "\n",
    "model13.compile(optimizer='adam', loss='binary_crossentropy', metrics=['accuracy'])\n",
    "model_results(model13)\n",
    "model13.save(\"model13.keras\")"
   ]
  },
  {
   "cell_type": "markdown",
   "metadata": {},
   "source": [
    "### Model 14\n",
    "* <span style=\"color:#0e8fc7\">four page essay dataset</span>\n",
    "* Embedding layer\n",
    "* Bidirectional LSTM (128 units, dropout=0.5)\n",
    "* Bidirectional <span style=\"color:#0e8fc7\">GRU</span> (64 units, dropout=0.5)\n",
    "* FC layer to 1 (sigmoid activation)"
   ]
  },
  {
   "cell_type": "code",
   "execution_count": 29,
   "metadata": {},
   "outputs": [
    {
     "name": "stdout",
     "output_type": "stream",
     "text": [
      "Epoch 1/2\n",
      "\u001b[1m70/70\u001b[0m \u001b[32m━━━━━━━━━━━━━━━━━━━━\u001b[0m\u001b[37m\u001b[0m \u001b[1m167s\u001b[0m 2s/step - accuracy: 0.8021 - loss: 0.3806 - val_accuracy: 0.9604 - val_loss: 0.1176\n",
      "Epoch 2/2\n",
      "\u001b[1m70/70\u001b[0m \u001b[32m━━━━━━━━━━━━━━━━━━━━\u001b[0m\u001b[37m\u001b[0m \u001b[1m173s\u001b[0m 2s/step - accuracy: 0.9923 - loss: 0.0413 - val_accuracy: 0.9594 - val_loss: 0.1101\n",
      "\u001b[1m30/30\u001b[0m \u001b[32m━━━━━━━━━━━━━━━━━━━━\u001b[0m\u001b[37m\u001b[0m \u001b[1m19s\u001b[0m 635ms/step\n",
      "Classification Report:\n",
      "              precision    recall  f1-score   support\n",
      "\n",
      "           0       0.96      0.96      0.96       488\n",
      "           1       0.96      0.96      0.96       472\n",
      "\n",
      "    accuracy                           0.96       960\n",
      "   macro avg       0.96      0.96      0.96       960\n",
      "weighted avg       0.96      0.96      0.96       960\n",
      "\n"
     ]
    }
   ],
   "source": [
    "tokenizer = Tokenizer(num_words=max_word, split=' ') \n",
    "tokenizer.fit_on_texts(four_essay_df['text'].values)\n",
    "# converts the text into sequences of integers based on the tokenizer's vocabulary\n",
    "X = tokenizer.texts_to_sequences(four_essay_df['text'].values)\n",
    "# pad if needed\n",
    "X= pad_sequences(X, maxlen=max_sequence_length)\n",
    "\n",
    "y1 = four_essay_df['label']\n",
    "X_train, X_test, y_train, y_test = train_test_split(X,y1, test_size = 0.3, random_state = 42)\n",
    "\n",
    "model14 = Sequential()\n",
    "model14.add(Embedding(max_word, 1000))\n",
    "model14.add(Bidirectional(LSTM(128, dropout=0.5, return_sequences=True)))\n",
    "model14.add(Bidirectional(GRU(64, dropout=0.5, return_sequences=False)))\n",
    "model14.add(Dense(1, activation='sigmoid'))\n",
    "\n",
    "model14.compile(optimizer='adam', loss='binary_crossentropy', metrics=['accuracy'])\n",
    "model_results(model14)\n",
    "model14.save(\"model14.keras\")"
   ]
  },
  {
   "cell_type": "markdown",
   "metadata": {},
   "source": [
    "### Model 15\n",
    "* <span style=\"color:#0e8fc7\">long page essay dataset</span>\n",
    "* Embedding layer\n",
    "* Bidirectional LSTM (128 units, dropout=0.5)\n",
    "* Bidirectional <span style=\"color:#0e8fc7\">GRU</span> (64 units, dropout=0.5)\n",
    "* FC layer to 1 (sigmoid activation)"
   ]
  },
  {
   "cell_type": "code",
   "execution_count": 62,
   "metadata": {},
   "outputs": [
    {
     "name": "stdout",
     "output_type": "stream",
     "text": [
      "Epoch 1/2\n",
      "\u001b[1m5/5\u001b[0m \u001b[32m━━━━━━━━━━━━━━━━━━━━\u001b[0m\u001b[37m\u001b[0m \u001b[1m16s\u001b[0m 3s/step - accuracy: 0.5734 - loss: 0.6891 - val_accuracy: 0.8358 - val_loss: 0.6596\n",
      "Epoch 2/2\n",
      "\u001b[1m5/5\u001b[0m \u001b[32m━━━━━━━━━━━━━━━━━━━━\u001b[0m\u001b[37m\u001b[0m \u001b[1m14s\u001b[0m 3s/step - accuracy: 0.9965 - loss: 0.6046 - val_accuracy: 0.9552 - val_loss: 0.4823\n",
      "\u001b[1m2/3\u001b[0m \u001b[32m━━━━━━━━━━━━━\u001b[0m\u001b[37m━━━━━━━\u001b[0m \u001b[1m0s\u001b[0m 500ms/stepWARNING:tensorflow:5 out of the last 25 calls to <function TensorFlowTrainer.make_predict_function.<locals>.one_step_on_data_distributed at 0x3bca527a0> triggered tf.function retracing. Tracing is expensive and the excessive number of tracings could be due to (1) creating @tf.function repeatedly in a loop, (2) passing tensors with different shapes, (3) passing Python objects instead of tensors. For (1), please define your @tf.function outside of the loop. For (2), @tf.function has reduce_retracing=True option that can avoid unnecessary retracing. For (3), please refer to https://www.tensorflow.org/guide/function#controlling_retracing and https://www.tensorflow.org/api_docs/python/tf/function for  more details.\n",
      "\u001b[1m3/3\u001b[0m \u001b[32m━━━━━━━━━━━━━━━━━━━━\u001b[0m\u001b[37m\u001b[0m \u001b[1m2s\u001b[0m 492ms/step\n",
      "Classification Report:\n",
      "              precision    recall  f1-score   support\n",
      "\n",
      "           0       0.94      0.97      0.95        31\n",
      "           1       0.97      0.94      0.96        36\n",
      "\n",
      "    accuracy                           0.96        67\n",
      "   macro avg       0.95      0.96      0.96        67\n",
      "weighted avg       0.96      0.96      0.96        67\n",
      "\n"
     ]
    }
   ],
   "source": [
    "tokenizer = Tokenizer(num_words=max_word, split=' ') \n",
    "tokenizer.fit_on_texts(long_essay_df['text'].values)\n",
    "# converts the text into sequences of integers based on the tokenizer's vocabulary\n",
    "X = tokenizer.texts_to_sequences(long_essay_df['text'].values)\n",
    "# pad if needed\n",
    "X= pad_sequences(X, maxlen=max_sequence_length)\n",
    "\n",
    "y1 = long_essay_df['label']\n",
    "X_train, X_test, y_train, y_test = train_test_split(X,y1, test_size = 0.3, random_state = 42)\n",
    "\n",
    "model15 = Sequential()\n",
    "model15.add(Embedding(max_word, 1000))\n",
    "model15.add(Bidirectional(LSTM(128, dropout=0.5, return_sequences=True)))\n",
    "model15.add(Bidirectional(GRU(64, dropout=0.5, return_sequences=False)))\n",
    "model15.add(Dense(1, activation='sigmoid'))\n",
    "\n",
    "model15.compile(optimizer='adam', loss='binary_crossentropy', metrics=['accuracy'])\n",
    "model_results(model15)\n",
    "model15.save(\"model15.keras\")"
   ]
  },
  {
   "cell_type": "markdown",
   "metadata": {},
   "source": [
    "## 4. Ensembling"
   ]
  },
  {
   "cell_type": "markdown",
   "metadata": {},
   "source": [
    "### Using Models Trained on Essay Length"
   ]
  },
  {
   "cell_type": "markdown",
   "metadata": {},
   "source": [
    "Now, let us see if we can strengthen our accuracies by using ensembling. First, let's take a look at the models that were trained on subsets of the dataset, specifically models 11-15. Let's take make ensembles on all 4 of these models.\n",
    "\n",
    "First, let us do weighted average ensembling. We will use the accuracies of each model as weights."
   ]
  },
  {
   "cell_type": "code",
   "execution_count": 73,
   "metadata": {},
   "outputs": [
    {
     "name": "stdout",
     "output_type": "stream",
     "text": [
      "\u001b[1m282/282\u001b[0m \u001b[32m━━━━━━━━━━━━━━━━━━━━\u001b[0m\u001b[37m\u001b[0m \u001b[1m176s\u001b[0m 625ms/step\n",
      "\u001b[1m282/282\u001b[0m \u001b[32m━━━━━━━━━━━━━━━━━━━━\u001b[0m\u001b[37m\u001b[0m \u001b[1m194s\u001b[0m 688ms/step\n",
      "\u001b[1m282/282\u001b[0m \u001b[32m━━━━━━━━━━━━━━━━━━━━\u001b[0m\u001b[37m\u001b[0m \u001b[1m176s\u001b[0m 623ms/step\n",
      "\u001b[1m282/282\u001b[0m \u001b[32m━━━━━━━━━━━━━━━━━━━━\u001b[0m\u001b[37m\u001b[0m \u001b[1m168s\u001b[0m 596ms/step\n",
      "Classification Report:\n",
      "              precision    recall  f1-score   support\n",
      "\n",
      "           0       0.42      0.79      0.55      3713\n",
      "           1       0.60      0.22      0.33      5287\n",
      "\n",
      "    accuracy                           0.46      9000\n",
      "   macro avg       0.51      0.51      0.44      9000\n",
      "weighted avg       0.53      0.46      0.42      9000\n",
      "\n"
     ]
    }
   ],
   "source": [
    "# reset our dataset and specifically the test set and labels back to complete_df\n",
    "X_train, X_test, y_train, y_test = preprocess_for_models()\n",
    "\n",
    "# get the predictions of every model on the test set\n",
    "pred_model12 = model12.predict(X_test)\n",
    "pred_model13 = model13.predict(X_test)\n",
    "pred_model14 = model14.predict(X_test)\n",
    "pred_model15 = model15.predict(X_test)\n",
    "\n",
    "# save accuracies for each model\n",
    "accuracies = [0.89, 0.94, 0.96, 0.96]\n",
    "\n",
    "# weight predictions by model accuracy\n",
    "weighted_pred = np.average([pred_model12, pred_model13, pred_model14, pred_model15], axis=0, weights=accuracies)\n",
    "\n",
    "# if all voted above 0.5, consider it a 1\n",
    "threshold = 0.5\n",
    "final_pred = (weighted_pred > threshold).astype(int)\n",
    "\n",
    "print(\"Classification Report:\")\n",
    "print(classification_report(y_test, final_pred))"
   ]
  },
  {
   "cell_type": "markdown",
   "metadata": {},
   "source": [
    "Let us repeat the weighted average ensembling, but now we will use the proportion of samples that each model trained on as weights, with the idea that models that trained on more samples will be more accurate."
   ]
  },
  {
   "cell_type": "code",
   "execution_count": 74,
   "metadata": {},
   "outputs": [
    {
     "name": "stdout",
     "output_type": "stream",
     "text": [
      "Classification Report:\n",
      "              precision    recall  f1-score   support\n",
      "\n",
      "           0       0.43      0.74      0.54      3713\n",
      "           1       0.63      0.31      0.41      5287\n",
      "\n",
      "    accuracy                           0.48      9000\n",
      "   macro avg       0.53      0.52      0.48      9000\n",
      "weighted avg       0.54      0.48      0.46      9000\n",
      "\n"
     ]
    }
   ],
   "source": [
    "# weight by number of samples that each model trained on\n",
    "accuracies = [len(one_essay_df)/len(complete_df), len(two_essay_df)/len(complete_df), len(four_essay_df)/len(complete_df), len(long_essay_df)/len(complete_df)]\n",
    "\n",
    "# weight predictions\n",
    "weighted_pred = np.average([pred_model12, pred_model13, pred_model14, pred_model15], axis=0, weights=accuracies)\n",
    "\n",
    "# if all voted above 0.5, consider it a 1\n",
    "threshold = 0.5\n",
    "final_pred = (weighted_pred > threshold).astype(int)\n",
    "\n",
    "print(\"Classification Report:\")\n",
    "print(classification_report(y_test, final_pred))"
   ]
  },
  {
   "cell_type": "markdown",
   "metadata": {},
   "source": [
    "Now, let us do hard voting. We will take the predictions of each model and take a popular vote amongst them."
   ]
  },
  {
   "cell_type": "code",
   "execution_count": 83,
   "metadata": {},
   "outputs": [
    {
     "name": "stdout",
     "output_type": "stream",
     "text": [
      "Classification Report:\n",
      "              precision    recall  f1-score   support\n",
      "\n",
      "           0       0.41      0.95      0.57      3713\n",
      "           1       0.58      0.05      0.09      5287\n",
      "\n",
      "    accuracy                           0.42      9000\n",
      "   macro avg       0.50      0.50      0.33      9000\n",
      "weighted avg       0.51      0.42      0.29      9000\n",
      "\n"
     ]
    }
   ],
   "source": [
    "# find the predictions of all models\n",
    "pred_model12 = (pred_model12 > 0.5).astype(int)\n",
    "pred_model13 = (pred_model13 > 0.5).astype(int)\n",
    "pred_model14 = (pred_model14 > 0.5).astype(int)\n",
    "pred_model15 = (pred_model15 > 0.5).astype(int)\n",
    "\n",
    "# combining predictions into a single array\n",
    "arrays = [pred_model12, pred_model13, pred_model14, pred_model15]\n",
    "arrays_np = np.array(arrays)\n",
    "\n",
    "# calculate the majority value along columns\n",
    "majority_values = np.apply_along_axis(lambda x: np.bincount(x).argmax(), axis=0, arr=arrays_np)\n",
    "\n",
    "print(\"Classification Report:\")\n",
    "print(classification_report(y_test, majority_values))"
   ]
  },
  {
   "cell_type": "markdown",
   "metadata": {},
   "source": [
    "### Using Models with Best Accuracy\n",
    "\n",
    "Now, let us repeat the two ensembling methods we used, but this time using our best performing models in terms of accuracy. We will repeat this using our top 5 models (4, 5, 7, 8, 11), and our top 3 models (5, 8, 11) (only selecting from models 1-11, which were trained on the complete dataset).\n",
    "\n",
    "First, let us do weighted average ensembling with our top 5 best models."
   ]
  },
  {
   "cell_type": "code",
   "execution_count": 32,
   "metadata": {},
   "outputs": [
    {
     "name": "stdout",
     "output_type": "stream",
     "text": [
      "\u001b[1m282/282\u001b[0m \u001b[32m━━━━━━━━━━━━━━━━━━━━\u001b[0m\u001b[37m\u001b[0m \u001b[1m87s\u001b[0m 306ms/step\n",
      "\u001b[1m282/282\u001b[0m \u001b[32m━━━━━━━━━━━━━━━━━━━━\u001b[0m\u001b[37m\u001b[0m \u001b[1m158s\u001b[0m 562ms/step\n",
      "\u001b[1m282/282\u001b[0m \u001b[32m━━━━━━━━━━━━━━━━━━━━\u001b[0m\u001b[37m\u001b[0m \u001b[1m70s\u001b[0m 249ms/step\n",
      "\u001b[1m282/282\u001b[0m \u001b[32m━━━━━━━━━━━━━━━━━━━━\u001b[0m\u001b[37m\u001b[0m \u001b[1m164s\u001b[0m 582ms/step\n",
      "\u001b[1m282/282\u001b[0m \u001b[32m━━━━━━━━━━━━━━━━━━━━\u001b[0m\u001b[37m\u001b[0m \u001b[1m92s\u001b[0m 326ms/step\n",
      "Classification Report:\n",
      "              precision    recall  f1-score   support\n",
      "\n",
      "           0       0.91      0.87      0.89      3668\n",
      "           1       0.91      0.94      0.93      5332\n",
      "\n",
      "    accuracy                           0.91      9000\n",
      "   macro avg       0.91      0.91      0.91      9000\n",
      "weighted avg       0.91      0.91      0.91      9000\n",
      "\n"
     ]
    }
   ],
   "source": [
    "# get the predictions of every model on the test set\n",
    "pred_model4 = model4.predict(X_test)\n",
    "pred_model5 = model5.predict(X_test)\n",
    "pred_model7 = model7.predict(X_test)\n",
    "pred_model8 = model8.predict(X_test)\n",
    "pred_model11 = model11.predict(X_test)\n",
    "\n",
    "# save accuracies for each model\n",
    "accuracies = [90, 91, 90, 93, 90]\n",
    "\n",
    "# weight predictions by model accuracy\n",
    "weighted_pred = np.average([pred_model4, pred_model5, pred_model7, pred_model8, pred_model11], axis=0, weights=accuracies)\n",
    "\n",
    "# if all voted above 0.5, consider it a 1\n",
    "threshold = 0.5\n",
    "final_pred = (weighted_pred > threshold).astype(int)\n",
    "\n",
    "print(\"Classification Report:\")\n",
    "print(classification_report(y_test, final_pred))"
   ]
  },
  {
   "cell_type": "markdown",
   "metadata": {},
   "source": [
    "Now, let us do hard voting ensembling with our top 5 best models."
   ]
  },
  {
   "cell_type": "code",
   "execution_count": 33,
   "metadata": {},
   "outputs": [
    {
     "name": "stdout",
     "output_type": "stream",
     "text": [
      "Classification Report:\n",
      "              precision    recall  f1-score   support\n",
      "\n",
      "           0       0.91      0.87      0.89      3668\n",
      "           1       0.91      0.94      0.93      5332\n",
      "\n",
      "    accuracy                           0.91      9000\n",
      "   macro avg       0.91      0.90      0.91      9000\n",
      "weighted avg       0.91      0.91      0.91      9000\n",
      "\n"
     ]
    }
   ],
   "source": [
    "# find the predictions of all models\n",
    "pred_model4 = (pred_model4 > 0.5).astype(int)\n",
    "pred_model5 = (pred_model5 > 0.5).astype(int)\n",
    "pred_model7 = (pred_model7 > 0.5).astype(int)\n",
    "pred_model8 = (pred_model8 > 0.5).astype(int)\n",
    "pred_model11 = (pred_model11 > 0.5).astype(int)\n",
    "\n",
    "# combining predictions into a single array\n",
    "arrays = [pred_model4, pred_model5, pred_model7, pred_model8, pred_model11]\n",
    "arrays_np = np.array(arrays)\n",
    "\n",
    "# calculate the majority value along columns\n",
    "majority_values = np.apply_along_axis(lambda x: np.bincount(x).argmax(), axis=0, arr=arrays_np)\n",
    "\n",
    "print(\"Classification Report:\")\n",
    "print(classification_report(y_test, majority_values))"
   ]
  },
  {
   "cell_type": "markdown",
   "metadata": {},
   "source": [
    "Let us do weighted average ensembling with our top 3 best models."
   ]
  },
  {
   "cell_type": "code",
   "execution_count": 36,
   "metadata": {},
   "outputs": [
    {
     "name": "stdout",
     "output_type": "stream",
     "text": [
      "Classification Report:\n",
      "              precision    recall  f1-score   support\n",
      "\n",
      "           0       0.91      0.87      0.89      3668\n",
      "           1       0.92      0.94      0.93      5332\n",
      "\n",
      "    accuracy                           0.91      9000\n",
      "   macro avg       0.91      0.91      0.91      9000\n",
      "weighted avg       0.91      0.91      0.91      9000\n",
      "\n"
     ]
    }
   ],
   "source": [
    "# save accuracies for each model\n",
    "accuracies = [91, 93, 90]\n",
    "\n",
    "# weight predictions by model accuracy\n",
    "weighted_pred = np.average([ pred_model5, pred_model8, pred_model11], axis=0, weights=accuracies)\n",
    "\n",
    "# if all voted above 0.5, consider it a 1\n",
    "threshold = 0.5\n",
    "final_pred = (weighted_pred > threshold).astype(int)\n",
    "\n",
    "print(\"Classification Report:\")\n",
    "print(classification_report(y_test, final_pred))"
   ]
  },
  {
   "cell_type": "markdown",
   "metadata": {},
   "source": [
    "Let us do hard voting ensembling with our top 3 best models."
   ]
  },
  {
   "cell_type": "code",
   "execution_count": 35,
   "metadata": {},
   "outputs": [
    {
     "name": "stdout",
     "output_type": "stream",
     "text": [
      "Classification Report:\n",
      "              precision    recall  f1-score   support\n",
      "\n",
      "           0       0.91      0.87      0.89      3668\n",
      "           1       0.92      0.94      0.93      5332\n",
      "\n",
      "    accuracy                           0.91      9000\n",
      "   macro avg       0.91      0.91      0.91      9000\n",
      "weighted avg       0.91      0.91      0.91      9000\n",
      "\n"
     ]
    }
   ],
   "source": [
    "# find the predictions of all models\n",
    "pred_model5 = (pred_model5 > 0.5).astype(int)\n",
    "pred_model8 = (pred_model8 > 0.5).astype(int)\n",
    "pred_model11 = (pred_model11 > 0.5).astype(int)\n",
    "\n",
    "# combining predictions into a single array\n",
    "arrays = [pred_model5, pred_model8, pred_model11]\n",
    "arrays_np = np.array(arrays)\n",
    "\n",
    "# calculate the majority value along columns\n",
    "majority_values = np.apply_along_axis(lambda x: np.bincount(x).argmax(), axis=0, arr=arrays_np)\n",
    "\n",
    "print(\"Classification Report:\")\n",
    "print(classification_report(y_test, majority_values))"
   ]
  },
  {
   "cell_type": "markdown",
   "metadata": {},
   "source": [
    "## 5. Fine-Tuning Our Top-Performing Model\n",
    "\n",
    "Now, let us take our best-performing model from the 11 that we trained on the entire dataset to see if we can improve it in any way. We will see if making changes to the vocabulary size and input length have any effect on the model accuracy.\n",
    "\n",
    "We will do this by first increasing the maximum vocabulary size while keeping input length constant."
   ]
  },
  {
   "cell_type": "code",
   "execution_count": 38,
   "metadata": {},
   "outputs": [],
   "source": [
    "# vocabulary size\n",
    "max_word = 7500\n",
    "\n",
    "# sequences shorter than this padded to reach 1000, sequences longer are truncated\n",
    "max_sequence_length = 1000\n",
    "\n",
    "X_train, X_test, y_train, y_test = preprocess_for_models()"
   ]
  },
  {
   "cell_type": "code",
   "execution_count": 39,
   "metadata": {},
   "outputs": [
    {
     "name": "stdout",
     "output_type": "stream",
     "text": [
      "Epoch 1/2\n",
      "\u001b[1m657/657\u001b[0m \u001b[32m━━━━━━━━━━━━━━━━━━━━\u001b[0m\u001b[37m\u001b[0m \u001b[1m1965s\u001b[0m 3s/step - accuracy: 0.8303 - loss: 0.3587 - val_accuracy: 0.8988 - val_loss: 0.2537\n",
      "Epoch 2/2\n",
      "\u001b[1m657/657\u001b[0m \u001b[32m━━━━━━━━━━━━━━━━━━━━\u001b[0m\u001b[37m\u001b[0m \u001b[1m2080s\u001b[0m 3s/step - accuracy: 0.9253 - loss: 0.1872 - val_accuracy: 0.9033 - val_loss: 0.2324\n",
      "\u001b[1m282/282\u001b[0m \u001b[32m━━━━━━━━━━━━━━━━━━━━\u001b[0m\u001b[37m\u001b[0m \u001b[1m196s\u001b[0m 693ms/step\n",
      "Classification Report:\n",
      "              precision    recall  f1-score   support\n",
      "\n",
      "           0       0.88      0.89      0.88      3668\n",
      "           1       0.92      0.91      0.92      5332\n",
      "\n",
      "    accuracy                           0.90      9000\n",
      "   macro avg       0.90      0.90      0.90      9000\n",
      "weighted avg       0.90      0.90      0.90      9000\n",
      "\n"
     ]
    }
   ],
   "source": [
    "model8_1 = Sequential()\n",
    "model8_1.add(Embedding(max_word, 1000))\n",
    "model8_1.add(Bidirectional(LSTM(128, dropout=0.5, return_sequences=True)))\n",
    "model8_1.add(Bidirectional(GRU(64, dropout=0.5, return_sequences=False)))\n",
    "model8_1.add(Dense(1, activation='sigmoid'))\n",
    "\n",
    "model8_1.compile(optimizer='adam', loss='binary_crossentropy', metrics=['accuracy'])\n",
    "model_results(model8_1)\n",
    "model8_1.save(\"model8_1.keras\")"
   ]
  },
  {
   "cell_type": "markdown",
   "metadata": {},
   "source": [
    "Next, we will increase input length while keeping vocabulary size constant."
   ]
  },
  {
   "cell_type": "code",
   "execution_count": 40,
   "metadata": {},
   "outputs": [],
   "source": [
    "# vocabulary size\n",
    "max_word = 5000\n",
    "\n",
    "# sequences shorter than this padded to reach 1000, sequences longer are truncated\n",
    "max_sequence_length = 3000\n",
    "\n",
    "X_train, X_test, y_train, y_test = preprocess_for_models()"
   ]
  },
  {
   "cell_type": "code",
   "execution_count": 43,
   "metadata": {},
   "outputs": [
    {
     "name": "stdout",
     "output_type": "stream",
     "text": [
      "Epoch 1/2\n",
      "\u001b[1m657/657\u001b[0m \u001b[32m━━━━━━━━━━━━━━━━━━━━\u001b[0m\u001b[37m\u001b[0m \u001b[1m5714s\u001b[0m 9s/step - accuracy: 0.8277 - loss: 0.3662 - val_accuracy: 0.8939 - val_loss: 0.2567\n",
      "Epoch 2/2\n",
      "\u001b[1m657/657\u001b[0m \u001b[32m━━━━━━━━━━━━━━━━━━━━\u001b[0m\u001b[37m\u001b[0m \u001b[1m5780s\u001b[0m 9s/step - accuracy: 0.9145 - loss: 0.2068 - val_accuracy: 0.9018 - val_loss: 0.2452\n",
      "\u001b[1m282/282\u001b[0m \u001b[32m━━━━━━━━━━━━━━━━━━━━\u001b[0m\u001b[37m\u001b[0m \u001b[1m476s\u001b[0m 2s/step\n",
      "Classification Report:\n",
      "              precision    recall  f1-score   support\n",
      "\n",
      "           0       0.92      0.84      0.87      3668\n",
      "           1       0.89      0.95      0.92      5332\n",
      "\n",
      "    accuracy                           0.90      9000\n",
      "   macro avg       0.90      0.89      0.90      9000\n",
      "weighted avg       0.90      0.90      0.90      9000\n",
      "\n"
     ]
    }
   ],
   "source": [
    "model8_2 = Sequential()\n",
    "model8_2.add(Embedding(max_word, 1000))\n",
    "model8_2.add(Bidirectional(LSTM(128, dropout=0.5, return_sequences=True)))\n",
    "model8_2.add(Bidirectional(GRU(64, dropout=0.5, return_sequences=False)))\n",
    "model8_2.add(Dense(1, activation='sigmoid'))\n",
    "\n",
    "model8_2.compile(optimizer='adam', loss='binary_crossentropy', metrics=['accuracy'])\n",
    "model_results(model8_2)\n",
    "model8_2.save(\"model8_2.keras\")"
   ]
  },
  {
   "cell_type": "markdown",
   "metadata": {},
   "source": [
    "Then, we will increase both vocabulary size and maximum input length."
   ]
  },
  {
   "cell_type": "code",
   "execution_count": 44,
   "metadata": {},
   "outputs": [],
   "source": [
    "# vocabulary size\n",
    "max_word = 7500\n",
    "\n",
    "# sequences shorter than this padded to reach 1000, sequences longer are truncated\n",
    "max_sequence_length = 3000\n",
    "\n",
    "X_train, X_test, y_train, y_test = preprocess_for_models()"
   ]
  },
  {
   "cell_type": "code",
   "execution_count": 45,
   "metadata": {},
   "outputs": [
    {
     "name": "stdout",
     "output_type": "stream",
     "text": [
      "Epoch 1/2\n"
     ]
    },
    {
     "name": "stdout",
     "output_type": "stream",
     "text": [
      "\u001b[1m657/657\u001b[0m \u001b[32m━━━━━━━━━━━━━━━━━━━━\u001b[0m\u001b[37m\u001b[0m \u001b[1m5837s\u001b[0m 9s/step - accuracy: 0.8373 - loss: 0.3465 - val_accuracy: 0.8952 - val_loss: 0.2551\n",
      "Epoch 2/2\n",
      "\u001b[1m657/657\u001b[0m \u001b[32m━━━━━━━━━━━━━━━━━━━━\u001b[0m\u001b[37m\u001b[0m \u001b[1m5961s\u001b[0m 9s/step - accuracy: 0.9321 - loss: 0.1767 - val_accuracy: 0.9050 - val_loss: 0.2350\n",
      "\u001b[1m282/282\u001b[0m \u001b[32m━━━━━━━━━━━━━━━━━━━━\u001b[0m\u001b[37m\u001b[0m \u001b[1m478s\u001b[0m 2s/step\n",
      "Classification Report:\n",
      "              precision    recall  f1-score   support\n",
      "\n",
      "           0       0.93      0.83      0.88      3668\n",
      "           1       0.89      0.96      0.92      5332\n",
      "\n",
      "    accuracy                           0.91      9000\n",
      "   macro avg       0.91      0.89      0.90      9000\n",
      "weighted avg       0.91      0.91      0.90      9000\n",
      "\n"
     ]
    }
   ],
   "source": [
    "model8_3 = Sequential()\n",
    "model8_3.add(Embedding(max_word, 1000))\n",
    "model8_3.add(Bidirectional(LSTM(128, dropout=0.5, return_sequences=True)))\n",
    "model8_3.add(Bidirectional(GRU(64, dropout=0.5, return_sequences=False)))\n",
    "model8_3.add(Dense(1, activation='sigmoid'))\n",
    "\n",
    "model8_3.compile(optimizer='adam', loss='binary_crossentropy', metrics=['accuracy'])\n",
    "model_results(model8_3)\n",
    "model8_3.save(\"model8_3.keras\")"
   ]
  },
  {
   "cell_type": "markdown",
   "metadata": {},
   "source": [
    "Lastly, we will decrease vocabulary size and maximum input length."
   ]
  },
  {
   "cell_type": "code",
   "execution_count": 46,
   "metadata": {},
   "outputs": [],
   "source": [
    "# vocabulary size\n",
    "max_word = 3500\n",
    "\n",
    "# sequences shorter than this padded to reach 1000, sequences longer are truncated\n",
    "max_sequence_length = 500\n",
    "\n",
    "X_train, X_test, y_train, y_test = preprocess_for_models()"
   ]
  },
  {
   "cell_type": "code",
   "execution_count": 47,
   "metadata": {},
   "outputs": [
    {
     "name": "stdout",
     "output_type": "stream",
     "text": [
      "Epoch 1/2\n"
     ]
    },
    {
     "name": "stdout",
     "output_type": "stream",
     "text": [
      "\u001b[1m657/657\u001b[0m \u001b[32m━━━━━━━━━━━━━━━━━━━━\u001b[0m\u001b[37m\u001b[0m \u001b[1m760s\u001b[0m 1s/step - accuracy: 0.8370 - loss: 0.3515 - val_accuracy: 0.8961 - val_loss: 0.2412\n",
      "Epoch 2/2\n",
      "\u001b[1m657/657\u001b[0m \u001b[32m━━━━━━━━━━━━━━━━━━━━\u001b[0m\u001b[37m\u001b[0m \u001b[1m774s\u001b[0m 1s/step - accuracy: 0.9271 - loss: 0.1767 - val_accuracy: 0.9172 - val_loss: 0.2044\n",
      "\u001b[1m282/282\u001b[0m \u001b[32m━━━━━━━━━━━━━━━━━━━━\u001b[0m\u001b[37m\u001b[0m \u001b[1m76s\u001b[0m 269ms/step\n",
      "Classification Report:\n",
      "              precision    recall  f1-score   support\n",
      "\n",
      "           0       0.91      0.89      0.90      3668\n",
      "           1       0.92      0.94      0.93      5332\n",
      "\n",
      "    accuracy                           0.92      9000\n",
      "   macro avg       0.92      0.91      0.91      9000\n",
      "weighted avg       0.92      0.92      0.92      9000\n",
      "\n"
     ]
    }
   ],
   "source": [
    "model8_4 = Sequential()\n",
    "model8_4.add(Embedding(max_word, 1000))\n",
    "model8_4.add(Bidirectional(LSTM(128, dropout=0.5, return_sequences=True)))\n",
    "model8_4.add(Bidirectional(GRU(64, dropout=0.5, return_sequences=False)))\n",
    "model8_4.add(Dense(1, activation='sigmoid'))\n",
    "\n",
    "model8_4.compile(optimizer='adam', loss='binary_crossentropy', metrics=['accuracy'])\n",
    "model_results(model8_4)\n",
    "model8_4.save(\"model8_4.keras\")"
   ]
  },
  {
   "cell_type": "markdown",
   "metadata": {},
   "source": [
    "Finally, let us increase the number of epochs the model trains for. Because with a reduced vocabulary and input length, the model performed almost just as well as the original model 8 we were testing, we will train with more epochs (7 total) on this model in the interest of reducing computational cost."
   ]
  },
  {
   "cell_type": "code",
   "execution_count": 49,
   "metadata": {},
   "outputs": [
    {
     "name": "stdout",
     "output_type": "stream",
     "text": [
      "Epoch 1/7\n",
      "\u001b[1m657/657\u001b[0m \u001b[32m━━━━━━━━━━━━━━━━━━━━\u001b[0m\u001b[37m\u001b[0m \u001b[1m784s\u001b[0m 1s/step - accuracy: 0.8312 - loss: 0.3570 - val_accuracy: 0.8886 - val_loss: 0.2588\n",
      "Epoch 2/7\n",
      "\u001b[1m657/657\u001b[0m \u001b[32m━━━━━━━━━━━━━━━━━━━━\u001b[0m\u001b[37m\u001b[0m \u001b[1m782s\u001b[0m 1s/step - accuracy: 0.9224 - loss: 0.1900 - val_accuracy: 0.8970 - val_loss: 0.2444\n",
      "Epoch 3/7\n",
      "\u001b[1m657/657\u001b[0m \u001b[32m━━━━━━━━━━━━━━━━━━━━\u001b[0m\u001b[37m\u001b[0m \u001b[1m789s\u001b[0m 1s/step - accuracy: 0.9449 - loss: 0.1405 - val_accuracy: 0.9094 - val_loss: 0.2285\n",
      "Epoch 4/7\n",
      "\u001b[1m657/657\u001b[0m \u001b[32m━━━━━━━━━━━━━━━━━━━━\u001b[0m\u001b[37m\u001b[0m \u001b[1m776s\u001b[0m 1s/step - accuracy: 0.9621 - loss: 0.1006 - val_accuracy: 0.9074 - val_loss: 0.2542\n",
      "Epoch 5/7\n",
      "\u001b[1m657/657\u001b[0m \u001b[32m━━━━━━━━━━━━━━━━━━━━\u001b[0m\u001b[37m\u001b[0m \u001b[1m785s\u001b[0m 1s/step - accuracy: 0.9737 - loss: 0.0696 - val_accuracy: 0.9111 - val_loss: 0.2790\n",
      "Epoch 6/7\n",
      "\u001b[1m657/657\u001b[0m \u001b[32m━━━━━━━━━━━━━━━━━━━━\u001b[0m\u001b[37m\u001b[0m \u001b[1m782s\u001b[0m 1s/step - accuracy: 0.9809 - loss: 0.0525 - val_accuracy: 0.9117 - val_loss: 0.3213\n",
      "Epoch 7/7\n",
      "\u001b[1m657/657\u001b[0m \u001b[32m━━━━━━━━━━━━━━━━━━━━\u001b[0m\u001b[37m\u001b[0m \u001b[1m853s\u001b[0m 1s/step - accuracy: 0.9895 - loss: 0.0308 - val_accuracy: 0.9021 - val_loss: 0.3369\n",
      "\u001b[1m282/282\u001b[0m \u001b[32m━━━━━━━━━━━━━━━━━━━━\u001b[0m\u001b[37m\u001b[0m \u001b[1m79s\u001b[0m 278ms/step\n",
      "Classification Report:\n",
      "              precision    recall  f1-score   support\n",
      "\n",
      "           0       0.87      0.90      0.88      3668\n",
      "           1       0.93      0.91      0.92      5332\n",
      "\n",
      "    accuracy                           0.90      9000\n",
      "   macro avg       0.90      0.90      0.90      9000\n",
      "weighted avg       0.90      0.90      0.90      9000\n",
      "\n"
     ]
    }
   ],
   "source": [
    "model8_5 = Sequential()\n",
    "model8_5.add(Embedding(max_word, 1000))\n",
    "model8_5.add(Bidirectional(LSTM(128, dropout=0.5, return_sequences=True)))\n",
    "model8_5.add(Bidirectional(GRU(64, dropout=0.5, return_sequences=False)))\n",
    "model8_5.add(Dense(1, activation='sigmoid'))\n",
    "\n",
    "model8_5.compiLle(optimizer='adam', loss='binary_crossentropy', metrics=['accuracy'])\n",
    "model_results(model8_5, epochs=7)\n",
    "model8_5.save(\"model8_5.keras\")"
   ]
  }
 ],
 "metadata": {
  "kernelspec": {
   "display_name": "touse",
   "language": "python",
   "name": "touse"
  },
  "language_info": {
   "codemirror_mode": {
    "name": "ipython",
    "version": 3
   },
   "file_extension": ".py",
   "mimetype": "text/x-python",
   "name": "python",
   "nbconvert_exporter": "python",
   "pygments_lexer": "ipython3",
   "version": "3.12.2"
  }
 },
 "nbformat": 4,
 "nbformat_minor": 2
}
